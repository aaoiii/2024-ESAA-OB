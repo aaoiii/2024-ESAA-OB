{
  "nbformat": 4,
  "nbformat_minor": 0,
  "metadata": {
    "colab": {
      "provenance": [],
      "authorship_tag": "ABX9TyO2/0tXKil37olL3HsgD17V",
      "include_colab_link": true
    },
    "kernelspec": {
      "name": "python3",
      "display_name": "Python 3"
    },
    "language_info": {
      "name": "python"
    }
  },
  "cells": [
    {
      "cell_type": "markdown",
      "metadata": {
        "id": "view-in-github",
        "colab_type": "text"
      },
      "source": [
        "<a href=\"https://colab.research.google.com/github/aaoiii/2024-ESAA-OB/blob/main/12%EC%A3%BC%EC%B0%A8_%ED%85%90%EC%84%9C%ED%94%8C%EB%A1%9C.ipynb\" target=\"_parent\"><img src=\"https://colab.research.google.com/assets/colab-badge.svg\" alt=\"Open In Colab\"/></a>"
      ]
    },
    {
      "cell_type": "markdown",
      "source": [
        "##04 모델 세부 설정\n"
      ],
      "metadata": {
        "id": "YiAjxUGbPOUF"
      }
    },
    {
      "cell_type": "code",
      "source": [
        "import tensorflow as tf\n",
        "\n",
        "# 케라스의 내장 데이터셋에서 mnist 데이터셋 로드\n",
        "mnist = tf.keras.datasets.mnist\n",
        "\n",
        "# load_data()로 데이터셋 코드\n",
        "(x_train, y_train),(x_test, y_test) = mnist.load_data()\n",
        "\n",
        "# 로드된 데이터셋 확인\n",
        "print(\"train set:\", x_train.shape, y_train.shape)\n",
        "print(\"test set:\", x_test.shape, y_test.shape)\n",
        "\n",
        "# 데이터 정규화\n",
        "x_train = x_train/x_train.max()\n",
        "x_test = x_test/ x_test.max()"
      ],
      "metadata": {
        "colab": {
          "base_uri": "https://localhost:8080/"
        },
        "id": "CYe4BJ4PPe49",
        "outputId": "0ee47608-0168-4ea6-be17-26bce0b516a6"
      },
      "execution_count": 1,
      "outputs": [
        {
          "output_type": "stream",
          "name": "stdout",
          "text": [
            "Downloading data from https://storage.googleapis.com/tensorflow/tf-keras-datasets/mnist.npz\n",
            "11490434/11490434 [==============================] - 0s 0us/step\n",
            "train set: (60000, 28, 28) (60000,)\n",
            "test set: (10000, 28, 28) (10000,)\n"
          ]
        }
      ]
    },
    {
      "cell_type": "markdown",
      "source": [
        "### 4.1 초기값 설정"
      ],
      "metadata": {
        "id": "ILQ_RxHGTCM7"
      }
    },
    {
      "cell_type": "code",
      "source": [
        "dense=tf.keras.layers.Dense(256,activation='relu')\n",
        "dense.get_config()['kernel_initializer']"
      ],
      "metadata": {
        "colab": {
          "base_uri": "https://localhost:8080/"
        },
        "id": "V6MHdJgkTA8V",
        "outputId": "4a870e02-0b49-4579-b18b-85eb914275da"
      },
      "execution_count": 2,
      "outputs": [
        {
          "output_type": "execute_result",
          "data": {
            "text/plain": [
              "{'module': 'keras.initializers',\n",
              " 'class_name': 'GlorotUniform',\n",
              " 'config': {'seed': None},\n",
              " 'registered_name': None}"
            ]
          },
          "metadata": {},
          "execution_count": 2
        }
      ]
    },
    {
      "cell_type": "code",
      "source": [
        "# 문자열 초기화\n",
        "dense=tf.keras.layers.Dense(256,kernel_initializer='he_normal',activation='relu')\n",
        "print(dense.get_config()['kernel_initializer'])\n",
        "\n",
        "# 클래스 인스턴스 초기화\n",
        "he_normal=tf.keras.initializers.HeNormal()\n",
        "dense=tf.keras.layers.Dense(256,kernel_initializer=he_normal,activation='relu')\n",
        "print(dense.get_config()['kernel_initializer'])"
      ],
      "metadata": {
        "colab": {
          "base_uri": "https://localhost:8080/"
        },
        "id": "BoLPrtyuTBM3",
        "outputId": "f42cb0eb-ad0d-4520-959d-e9dd9e3f3998"
      },
      "execution_count": 3,
      "outputs": [
        {
          "output_type": "stream",
          "name": "stdout",
          "text": [
            "{'module': 'keras.initializers', 'class_name': 'HeNormal', 'config': {'seed': None}, 'registered_name': None}\n",
            "{'module': 'keras.initializers', 'class_name': 'HeNormal', 'config': {'seed': None}, 'registered_name': None}\n"
          ]
        }
      ]
    },
    {
      "cell_type": "markdown",
      "source": [
        "자주 사용되는 초기화 목록\n",
        "- glorot_normal, glorot_uniform (Xavier초기화)\n",
        "- lecun_normal, lecun uniform\n",
        "- he_normal, he_uniform\n",
        "- random_normal, random_uniform"
      ],
      "metadata": {
        "id": "cwsa7kIvUFWk"
      }
    },
    {
      "cell_type": "markdown",
      "source": [
        "### 4.2 규제\n",
        "- 모델의 과대적합을 해소하기 위해 L1, L2 규제를 적용하기도 함"
      ],
      "metadata": {
        "id": "hBPt3fIZUW74"
      }
    },
    {
      "cell_type": "code",
      "source": [
        "# 기본값\n",
        "dense=tf.keras.layers.Dense(256,activation='relu')\n",
        "dense.get_config()"
      ],
      "metadata": {
        "colab": {
          "base_uri": "https://localhost:8080/"
        },
        "id": "bHhK0FyGTBPe",
        "outputId": "d7f9a591-a5a7-466f-fe00-be2007b22fd0"
      },
      "execution_count": 4,
      "outputs": [
        {
          "output_type": "execute_result",
          "data": {
            "text/plain": [
              "{'name': 'dense_3',\n",
              " 'trainable': True,\n",
              " 'dtype': 'float32',\n",
              " 'units': 256,\n",
              " 'activation': 'relu',\n",
              " 'use_bias': True,\n",
              " 'kernel_initializer': {'module': 'keras.initializers',\n",
              "  'class_name': 'GlorotUniform',\n",
              "  'config': {'seed': None},\n",
              "  'registered_name': None},\n",
              " 'bias_initializer': {'module': 'keras.initializers',\n",
              "  'class_name': 'Zeros',\n",
              "  'config': {},\n",
              "  'registered_name': None},\n",
              " 'kernel_regularizer': None,\n",
              " 'bias_regularizer': None,\n",
              " 'activity_regularizer': None,\n",
              " 'kernel_constraint': None,\n",
              " 'bias_constraint': None}"
            ]
          },
          "metadata": {},
          "execution_count": 4
        }
      ]
    },
    {
      "cell_type": "code",
      "source": [
        "# L1 규제 적용\n",
        "dense=tf.keras.layers.Dense(256,kernel_regularizer='l1',activation='relu')\n",
        "print(dense.get_config()['kernel_regularizer'])\n",
        "\n",
        "# 클래스 인스턴스 적용, alpha=0.1 변경\n",
        "regularizer=tf.keras.regularizers.l1(l1=0.1)\n",
        "dense=tf.keras.layers.Dense(256,kernel_regularizer=regularizer, activation='relu')\n",
        "print(dense.get_config()['kernel_regularizer'])"
      ],
      "metadata": {
        "colab": {
          "base_uri": "https://localhost:8080/"
        },
        "id": "2pWcwnvpTBSY",
        "outputId": "767f13a5-ac30-4958-aec0-9065f7c79715"
      },
      "execution_count": 5,
      "outputs": [
        {
          "output_type": "stream",
          "name": "stdout",
          "text": [
            "{'module': 'keras.regularizers', 'class_name': 'L1', 'config': {'l1': 0.009999999776482582}, 'registered_name': None}\n",
            "{'module': 'keras.regularizers', 'class_name': 'L1', 'config': {'l1': 0.10000000149011612}, 'registered_name': None}\n"
          ]
        }
      ]
    },
    {
      "cell_type": "markdown",
      "source": [
        "### 4.3 드롭아웃\n",
        "- 과대적합 문제 해결\n",
        "- 노드의 일부 신호를 임의로 삭제\n",
        "- 모델이 학습하는 가중치 파라미터의 개수가 현저하게 줄어든다\n",
        "-훈련시에는 드롭아웃이 적용되어 노드 중 일부만 훈련, 예측시점에는 모든 노드 활용"
      ],
      "metadata": {
        "id": "3JbiY6LYU_Em"
      }
    },
    {
      "cell_type": "code",
      "source": [
        "# Dropout 25% 비율 적용(25%의 노드가 삭제)\n",
        "tf.keras.layers.Dropout(0.25)"
      ],
      "metadata": {
        "colab": {
          "base_uri": "https://localhost:8080/"
        },
        "id": "zU-7w5UITBU-",
        "outputId": "68fe0d26-9a1d-45a5-80ba-dba95819f6b3"
      },
      "execution_count": 6,
      "outputs": [
        {
          "output_type": "execute_result",
          "data": {
            "text/plain": [
              "<keras.src.layers.regularization.dropout.Dropout at 0x7f079ead7d30>"
            ]
          },
          "metadata": {},
          "execution_count": 6
        }
      ]
    },
    {
      "cell_type": "markdown",
      "source": [
        "### 4.4 배치 정규화\n",
        "- 각 층에서 활성화 함수를 통과하기 전 미니 배치의 스케일을 정규화\n",
        "- 데이터가 다음층으로 전달 되기 전에 스케일 조정\n",
        "- 클래스 인스턴스 생성하여 추가해주기"
      ],
      "metadata": {
        "id": "4YQLAK0jVWGZ"
      }
    },
    {
      "cell_type": "code",
      "source": [
        "# Model A : Dense+Relu\n",
        "model_a=tf.keras.Sequential([\n",
        "    tf.keras.layers.Flatten(input_shape=(28,28)),\n",
        "    tf.keras.layers.Dense(64,activation='relu'),\n",
        "    tf.keras.layers.Dense(32,activation='relu'),\n",
        "    tf.keras.layers.Dense(10,activation='softmax')\n",
        "])\n",
        "\n",
        "model_a.summary()"
      ],
      "metadata": {
        "colab": {
          "base_uri": "https://localhost:8080/"
        },
        "id": "JdXV-X6jVV-5",
        "outputId": "c000f7e8-7293-4bd9-9c3d-04f390e8ad92"
      },
      "execution_count": 7,
      "outputs": [
        {
          "output_type": "stream",
          "name": "stdout",
          "text": [
            "Model: \"sequential\"\n",
            "_________________________________________________________________\n",
            " Layer (type)                Output Shape              Param #   \n",
            "=================================================================\n",
            " flatten (Flatten)           (None, 784)               0         \n",
            "                                                                 \n",
            " dense_6 (Dense)             (None, 64)                50240     \n",
            "                                                                 \n",
            " dense_7 (Dense)             (None, 32)                2080      \n",
            "                                                                 \n",
            " dense_8 (Dense)             (None, 10)                330       \n",
            "                                                                 \n",
            "=================================================================\n",
            "Total params: 52650 (205.66 KB)\n",
            "Trainable params: 52650 (205.66 KB)\n",
            "Non-trainable params: 0 (0.00 Byte)\n",
            "_________________________________________________________________\n"
          ]
        }
      ]
    },
    {
      "cell_type": "code",
      "source": [
        "# Model B : Dense+BatchNorm+Relu\n",
        "model_b=tf.keras.Sequential([\n",
        "    tf.keras.layers.Flatten(input_shape=(28,28)),\n",
        "    tf.keras.layers.Dense(64),\n",
        "    # 배치 정규화 적용\n",
        "    tf.keras.layers.BatchNormalization(),\n",
        "    # 배치 정규화 후 활성화 함수 적용\n",
        "    tf.keras.layers.Activation('relu'),\n",
        "\n",
        "    tf.keras.layers.Dense(32),\n",
        "    # 배치 정규화 적용\n",
        "    tf.keras.layers.BatchNormalization(),\n",
        "    # 배치 정규화 후 활성화 함수 적용\n",
        "    tf.keras.layers.Activation('relu'),\n",
        "\n",
        "    tf.keras.layers.Dense(10,activation='softmax')\n",
        "])\n",
        "\n",
        "model_b.summary()"
      ],
      "metadata": {
        "colab": {
          "base_uri": "https://localhost:8080/"
        },
        "id": "ldjl9ERPWDGj",
        "outputId": "81c192f4-9c12-4c7b-a01b-1d65cb079960"
      },
      "execution_count": 8,
      "outputs": [
        {
          "output_type": "stream",
          "name": "stdout",
          "text": [
            "Model: \"sequential_1\"\n",
            "_________________________________________________________________\n",
            " Layer (type)                Output Shape              Param #   \n",
            "=================================================================\n",
            " flatten_1 (Flatten)         (None, 784)               0         \n",
            "                                                                 \n",
            " dense_9 (Dense)             (None, 64)                50240     \n",
            "                                                                 \n",
            " batch_normalization (Batch  (None, 64)                256       \n",
            " Normalization)                                                  \n",
            "                                                                 \n",
            " activation (Activation)     (None, 64)                0         \n",
            "                                                                 \n",
            " dense_10 (Dense)            (None, 32)                2080      \n",
            "                                                                 \n",
            " batch_normalization_1 (Bat  (None, 32)                128       \n",
            " chNormalization)                                                \n",
            "                                                                 \n",
            " activation_1 (Activation)   (None, 32)                0         \n",
            "                                                                 \n",
            " dense_11 (Dense)            (None, 10)                330       \n",
            "                                                                 \n",
            "=================================================================\n",
            "Total params: 53034 (207.16 KB)\n",
            "Trainable params: 52842 (206.41 KB)\n",
            "Non-trainable params: 192 (768.00 Byte)\n",
            "_________________________________________________________________\n"
          ]
        }
      ]
    },
    {
      "cell_type": "markdown",
      "source": [
        "- 배치 정규화를 추가하고 손실이 이전 대비 안정적이고 빠르게 수렴\n",
        "- 데이터 개수가 큰 데이터셋에는 성능에 영향을 더 많이 미칠 것이다"
      ],
      "metadata": {
        "id": "Mm7D-RMhgVp0"
      }
    },
    {
      "cell_type": "markdown",
      "source": [
        "### 4.5 활성화 함수"
      ],
      "metadata": {
        "id": "Mp7LIscrgdsb"
      }
    },
    {
      "cell_type": "code",
      "source": [
        "# Leaky Relu 기본 설정\n",
        "tf.keras.layers.LeakyReLU()\n",
        "\n",
        "# Leaky Relu, alpha=0.2로 변경\n",
        "tf.keras.layers.LeakyReLU(alpha=0.2)"
      ],
      "metadata": {
        "id": "qZzZAMWfTBXm",
        "colab": {
          "base_uri": "https://localhost:8080/"
        },
        "outputId": "a90a429e-bb59-44c2-d887-7d5baeaeec14"
      },
      "execution_count": 11,
      "outputs": [
        {
          "output_type": "execute_result",
          "data": {
            "text/plain": [
              "<keras.src.layers.activation.leaky_relu.LeakyReLU at 0x7f0773e23d60>"
            ]
          },
          "metadata": {},
          "execution_count": 11
        }
      ]
    },
    {
      "cell_type": "code",
      "source": [
        "# Model C : Dense+BatchNorm_KeakyReLU(0.2)\n",
        "model_c=tf.keras.Sequential([\n",
        "    tf.keras.layers.Flatten(input_shape=(28,28)),\n",
        "    tf.keras.layers.Dense(64),\n",
        "    # 배치 정규화 적용\n",
        "    tf.keras.layers.BatchNormalization(),\n",
        "    # 배치 정규화 후 활성화 함수 적용\n",
        "    tf.keras.layers.LeakyReLU(alpha=0.2),\n",
        "\n",
        "    tf.keras.layers.Dense(32),\n",
        "    # 배치 정규화 적용\n",
        "    tf.keras.layers.BatchNormalization(),\n",
        "    # 배치 정규화 후 활성화 함수 적용\n",
        "    tf.keras.layers.LeakyReLU(alpha=0.2),\n",
        "\n",
        "    tf.keras.layers.Dense(10,activation='softmax')\n",
        "])\n",
        "\n",
        "model_c.summary()"
      ],
      "metadata": {
        "id": "1NJ2mWk6TBaG",
        "colab": {
          "base_uri": "https://localhost:8080/"
        },
        "outputId": "916320f8-6a7c-4e1f-8723-4c95cd607ae3"
      },
      "execution_count": 12,
      "outputs": [
        {
          "output_type": "stream",
          "name": "stdout",
          "text": [
            "Model: \"sequential_2\"\n",
            "_________________________________________________________________\n",
            " Layer (type)                Output Shape              Param #   \n",
            "=================================================================\n",
            " flatten_2 (Flatten)         (None, 784)               0         \n",
            "                                                                 \n",
            " dense_12 (Dense)            (None, 64)                50240     \n",
            "                                                                 \n",
            " batch_normalization_2 (Bat  (None, 64)                256       \n",
            " chNormalization)                                                \n",
            "                                                                 \n",
            " leaky_re_lu_4 (LeakyReLU)   (None, 64)                0         \n",
            "                                                                 \n",
            " dense_13 (Dense)            (None, 32)                2080      \n",
            "                                                                 \n",
            " batch_normalization_3 (Bat  (None, 32)                128       \n",
            " chNormalization)                                                \n",
            "                                                                 \n",
            " leaky_re_lu_5 (LeakyReLU)   (None, 32)                0         \n",
            "                                                                 \n",
            " dense_14 (Dense)            (None, 10)                330       \n",
            "                                                                 \n",
            "=================================================================\n",
            "Total params: 53034 (207.16 KB)\n",
            "Trainable params: 52842 (206.41 KB)\n",
            "Non-trainable params: 192 (768.00 Byte)\n",
            "_________________________________________________________________\n"
          ]
        }
      ]
    },
    {
      "cell_type": "markdown",
      "source": [
        "- 총 3개의 모델을 동일한 조건으로 10번의 epoch동안 훈련한 후 수렴속도 확인하기"
      ],
      "metadata": {
        "id": "GwZ1C02ehCbS"
      }
    },
    {
      "cell_type": "code",
      "source": [
        "model_a.compile(optimizer='adam',loss='sparse_categorical_crossentropy',metrics=['accuracy'])\n",
        "model_b.compile(optimizer='adam',loss='sparse_categorical_crossentropy',metrics=['accuracy'])\n",
        "model_c.compile(optimizer='adam',loss='sparse_categorical_crossentropy',metrics=['accuracy'])\n",
        "\n",
        "# Model A : Dense+ReLU\n",
        "history_a=model_a.fit(x_train,y_train,\n",
        "                      validation_data=(x_test,y_test),\n",
        "                      epochs=10)\n",
        "\n",
        "# Model B : Dense+BatchNorm+ReLU\n",
        "history_b=model_b.fit(x_train,y_train,\n",
        "                      validation_data=(x_test,y_test),\n",
        "                      epochs=10)\n",
        "\n",
        "# Model C : Dense+BatchNorm+LeakyReLU(0.2)\n",
        "history_c=model_c.fit(x_train,y_train,\n",
        "                      validation_data=(x_test,y_test),\n",
        "                      epochs=10)"
      ],
      "metadata": {
        "id": "YtAgyLUBTBct",
        "colab": {
          "base_uri": "https://localhost:8080/"
        },
        "outputId": "a5bc8552-1ead-47e6-80a1-2ea6deb969b6"
      },
      "execution_count": 14,
      "outputs": [
        {
          "output_type": "stream",
          "name": "stdout",
          "text": [
            "Epoch 1/10\n",
            "1875/1875 [==============================] - 8s 4ms/step - loss: 0.2960 - accuracy: 0.9136 - val_loss: 0.1611 - val_accuracy: 0.9484\n",
            "Epoch 2/10\n",
            "1875/1875 [==============================] - 10s 5ms/step - loss: 0.1359 - accuracy: 0.9598 - val_loss: 0.1278 - val_accuracy: 0.9627\n",
            "Epoch 3/10\n",
            "1875/1875 [==============================] - 15s 8ms/step - loss: 0.0987 - accuracy: 0.9706 - val_loss: 0.1073 - val_accuracy: 0.9684\n",
            "Epoch 4/10\n",
            "1875/1875 [==============================] - 14s 7ms/step - loss: 0.0792 - accuracy: 0.9756 - val_loss: 0.0971 - val_accuracy: 0.9697\n",
            "Epoch 5/10\n",
            "1875/1875 [==============================] - 15s 8ms/step - loss: 0.0652 - accuracy: 0.9797 - val_loss: 0.0915 - val_accuracy: 0.9723\n",
            "Epoch 6/10\n",
            "1875/1875 [==============================] - 13s 7ms/step - loss: 0.0548 - accuracy: 0.9834 - val_loss: 0.0943 - val_accuracy: 0.9730\n",
            "Epoch 7/10\n",
            "1875/1875 [==============================] - 9s 5ms/step - loss: 0.0480 - accuracy: 0.9847 - val_loss: 0.0885 - val_accuracy: 0.9739\n",
            "Epoch 8/10\n",
            "1875/1875 [==============================] - 8s 4ms/step - loss: 0.0420 - accuracy: 0.9859 - val_loss: 0.0988 - val_accuracy: 0.9724\n",
            "Epoch 9/10\n",
            "1875/1875 [==============================] - 11s 6ms/step - loss: 0.0351 - accuracy: 0.9889 - val_loss: 0.0985 - val_accuracy: 0.9736\n",
            "Epoch 10/10\n",
            "1875/1875 [==============================] - 8s 5ms/step - loss: 0.0321 - accuracy: 0.9893 - val_loss: 0.0933 - val_accuracy: 0.9756\n",
            "Epoch 1/10\n",
            "1875/1875 [==============================] - 9s 4ms/step - loss: 0.3237 - accuracy: 0.9115 - val_loss: 0.1301 - val_accuracy: 0.9630\n",
            "Epoch 2/10\n",
            "1875/1875 [==============================] - 10s 5ms/step - loss: 0.1427 - accuracy: 0.9562 - val_loss: 0.0998 - val_accuracy: 0.9702\n",
            "Epoch 3/10\n",
            "1875/1875 [==============================] - 8s 4ms/step - loss: 0.1117 - accuracy: 0.9648 - val_loss: 0.0865 - val_accuracy: 0.9732\n",
            "Epoch 4/10\n",
            "1875/1875 [==============================] - 8s 4ms/step - loss: 0.0917 - accuracy: 0.9711 - val_loss: 0.0923 - val_accuracy: 0.9712\n",
            "Epoch 5/10\n",
            "1875/1875 [==============================] - 8s 4ms/step - loss: 0.0815 - accuracy: 0.9744 - val_loss: 0.0801 - val_accuracy: 0.9754\n",
            "Epoch 6/10\n",
            "1875/1875 [==============================] - 8s 4ms/step - loss: 0.0732 - accuracy: 0.9765 - val_loss: 0.0737 - val_accuracy: 0.9759\n",
            "Epoch 7/10\n",
            "1875/1875 [==============================] - 7s 4ms/step - loss: 0.0667 - accuracy: 0.9786 - val_loss: 0.0772 - val_accuracy: 0.9760\n",
            "Epoch 8/10\n",
            "1875/1875 [==============================] - 8s 4ms/step - loss: 0.0597 - accuracy: 0.9805 - val_loss: 0.0800 - val_accuracy: 0.9759\n",
            "Epoch 9/10\n",
            "1875/1875 [==============================] - 7s 4ms/step - loss: 0.0566 - accuracy: 0.9813 - val_loss: 0.0748 - val_accuracy: 0.9773\n",
            "Epoch 10/10\n",
            "1875/1875 [==============================] - 8s 4ms/step - loss: 0.0547 - accuracy: 0.9820 - val_loss: 0.0753 - val_accuracy: 0.9777\n",
            "Epoch 1/10\n",
            "1875/1875 [==============================] - 8s 4ms/step - loss: 0.3315 - accuracy: 0.9083 - val_loss: 0.1491 - val_accuracy: 0.9549\n",
            "Epoch 2/10\n",
            "1875/1875 [==============================] - 9s 5ms/step - loss: 0.1584 - accuracy: 0.9518 - val_loss: 0.1109 - val_accuracy: 0.9660\n",
            "Epoch 3/10\n",
            "1875/1875 [==============================] - 8s 4ms/step - loss: 0.1242 - accuracy: 0.9621 - val_loss: 0.1107 - val_accuracy: 0.9656\n",
            "Epoch 4/10\n",
            "1875/1875 [==============================] - 6s 3ms/step - loss: 0.1090 - accuracy: 0.9663 - val_loss: 0.0962 - val_accuracy: 0.9696\n",
            "Epoch 5/10\n",
            "1875/1875 [==============================] - 8s 4ms/step - loss: 0.0959 - accuracy: 0.9691 - val_loss: 0.0920 - val_accuracy: 0.9718\n",
            "Epoch 6/10\n",
            "1875/1875 [==============================] - 6s 3ms/step - loss: 0.0845 - accuracy: 0.9726 - val_loss: 0.1076 - val_accuracy: 0.9677\n",
            "Epoch 7/10\n",
            "1875/1875 [==============================] - 8s 4ms/step - loss: 0.0773 - accuracy: 0.9757 - val_loss: 0.0909 - val_accuracy: 0.9730\n",
            "Epoch 8/10\n",
            "1875/1875 [==============================] - 6s 3ms/step - loss: 0.0735 - accuracy: 0.9766 - val_loss: 0.0837 - val_accuracy: 0.9750\n",
            "Epoch 9/10\n",
            "1875/1875 [==============================] - 8s 4ms/step - loss: 0.0680 - accuracy: 0.9779 - val_loss: 0.0948 - val_accuracy: 0.9720\n",
            "Epoch 10/10\n",
            "1875/1875 [==============================] - 7s 4ms/step - loss: 0.0635 - accuracy: 0.9788 - val_loss: 0.0834 - val_accuracy: 0.9749\n"
          ]
        }
      ]
    },
    {
      "cell_type": "code",
      "source": [
        "import matplotlib.pyplot as plt\n",
        "import numpy as np\n",
        "\n",
        "plt.figure(figsize=(12,9))\n",
        "plt.plot(np.arange(1,11),history_a.history['val_loss'],color='navy',linestyle=':')\n",
        "plt.plot(np.arange(1,11),history_b.history['val_loss'],color='tomato',linestyle='-.')\n",
        "plt.plot(np.arange(1,11),history_c.history['val_loss'],color='green',linestyle='-')\n",
        "\n",
        "plt.title('Losses',fontsize=20)\n",
        "plt.xlabel('epochs')\n",
        "plt.ylabel('Losses')\n",
        "plt.legend(['ReLU','BatchNorm+ReLU','batchnorm+LeakyReLU'],fontsize=12)"
      ],
      "metadata": {
        "id": "1ucjJC6vTBfX",
        "colab": {
          "base_uri": "https://localhost:8080/",
          "height": 821
        },
        "outputId": "98819837-a42a-4f91-cdd5-d0266adb7376"
      },
      "execution_count": 19,
      "outputs": [
        {
          "output_type": "execute_result",
          "data": {
            "text/plain": [
              "<matplotlib.legend.Legend at 0x7f079b991ae0>"
            ]
          },
          "metadata": {},
          "execution_count": 19
        },
        {
          "output_type": "display_data",
          "data": {
            "text/plain": [
              "<Figure size 1200x900 with 1 Axes>"
            ],
            "image/png": "[encoded data removed]"
          },
          "metadata": {}
        }
      ]
    },
    {
      "cell_type": "markdown",
      "source": [
        "## 06 모델 저장 및 불러오기\n",
        "### 6.1 모델을 파일로 저장\n",
        "\n",
        "- 훈련을 종료하여 가중치가 없데이트 된 모델 인스턴스 저장 가능\n",
        "- save()메소드"
      ],
      "metadata": {
        "id": "4Sev3XKpjVrE"
      }
    },
    {
      "cell_type": "code",
      "source": [
        "# 모델을 h5 포맷으로 저장\n",
        "model_c.save('h5-model.h5')"
      ],
      "metadata": {
        "colab": {
          "base_uri": "https://localhost:8080/"
        },
        "id": "cmrIeNS-jXpV",
        "outputId": "411eb856-d376-4fe3-da73-86154e61c368"
      },
      "execution_count": 21,
      "outputs": [
        {
          "output_type": "stream",
          "name": "stderr",
          "text": [
            "/usr/local/lib/python3.10/dist-packages/keras/src/engine/training.py:3103: UserWarning: You are saving your model as an HDF5 file via `model.save()`. This file format is considered legacy. We recommend using instead the native Keras format, e.g. `model.save('my_model.keras')`.\n",
            "  saving_api.save_model(\n"
          ]
        }
      ]
    },
    {
      "cell_type": "markdown",
      "source": [
        "### 6.2 저장된 모델 복원"
      ],
      "metadata": {
        "id": "Z3MDhvdpjwPT"
      }
    },
    {
      "cell_type": "code",
      "source": [
        "# 모델 복원\n",
        "h5_model=tf.keras.models.load_model('h5-model.h5')\n",
        "h5_model.summary()"
      ],
      "metadata": {
        "colab": {
          "base_uri": "https://localhost:8080/"
        },
        "id": "bAwZPkIljXsB",
        "outputId": "f9209632-473b-40c1-935a-cc9cf1e9d0f1"
      },
      "execution_count": 22,
      "outputs": [
        {
          "output_type": "stream",
          "name": "stdout",
          "text": [
            "Model: \"sequential_2\"\n",
            "_________________________________________________________________\n",
            " Layer (type)                Output Shape              Param #   \n",
            "=================================================================\n",
            " flatten_2 (Flatten)         (None, 784)               0         \n",
            "                                                                 \n",
            " dense_12 (Dense)            (None, 64)                50240     \n",
            "                                                                 \n",
            " batch_normalization_2 (Bat  (None, 64)                256       \n",
            " chNormalization)                                                \n",
            "                                                                 \n",
            " leaky_re_lu_4 (LeakyReLU)   (None, 64)                0         \n",
            "                                                                 \n",
            " dense_13 (Dense)            (None, 32)                2080      \n",
            "                                                                 \n",
            " batch_normalization_3 (Bat  (None, 32)                128       \n",
            " chNormalization)                                                \n",
            "                                                                 \n",
            " leaky_re_lu_5 (LeakyReLU)   (None, 32)                0         \n",
            "                                                                 \n",
            " dense_14 (Dense)            (None, 10)                330       \n",
            "                                                                 \n",
            "=================================================================\n",
            "Total params: 53034 (207.16 KB)\n",
            "Trainable params: 52842 (206.41 KB)\n",
            "Non-trainable params: 192 (768.00 Byte)\n",
            "_________________________________________________________________\n"
          ]
        }
      ]
    },
    {
      "cell_type": "code",
      "source": [
        "# 모델 검증\n",
        "loss,acc=h5_model.evaluate(x_test,y_test,verbose=0)\n",
        "print(f'h5 model]loss:{loss:.5f},acc:{acc:.5f}')"
      ],
      "metadata": {
        "colab": {
          "base_uri": "https://localhost:8080/"
        },
        "id": "e1vpjSzvj6dk",
        "outputId": "05a1b66f-3c2e-4144-f240-8377fdb7f526"
      },
      "execution_count": 23,
      "outputs": [
        {
          "output_type": "stream",
          "name": "stdout",
          "text": [
            "h5 model]loss:0.08339,acc:0.97490\n"
          ]
        }
      ]
    },
    {
      "cell_type": "code",
      "source": [
        "# 모델을 SavedModel 포맷으로 저장\n",
        "model_c.save('saved-model')"
      ],
      "metadata": {
        "id": "U8GrovB3kFXe"
      },
      "execution_count": 25,
      "outputs": []
    },
    {
      "cell_type": "code",
      "source": [
        "# 모델 복원\n",
        "saved_model=tf.keras.models.load_model('saved-model')\n",
        "saved_model.summary()"
      ],
      "metadata": {
        "colab": {
          "base_uri": "https://localhost:8080/"
        },
        "id": "LXltuRwSkM-f",
        "outputId": "9d1b16ed-9cce-49a6-9b2a-1dc00b06dd87"
      },
      "execution_count": 26,
      "outputs": [
        {
          "output_type": "stream",
          "name": "stdout",
          "text": [
            "Model: \"sequential_2\"\n",
            "_________________________________________________________________\n",
            " Layer (type)                Output Shape              Param #   \n",
            "=================================================================\n",
            " flatten_2 (Flatten)         (None, 784)               0         \n",
            "                                                                 \n",
            " dense_12 (Dense)            (None, 64)                50240     \n",
            "                                                                 \n",
            " batch_normalization_2 (Bat  (None, 64)                256       \n",
            " chNormalization)                                                \n",
            "                                                                 \n",
            " leaky_re_lu_4 (LeakyReLU)   (None, 64)                0         \n",
            "                                                                 \n",
            " dense_13 (Dense)            (None, 32)                2080      \n",
            "                                                                 \n",
            " batch_normalization_3 (Bat  (None, 32)                128       \n",
            " chNormalization)                                                \n",
            "                                                                 \n",
            " leaky_re_lu_5 (LeakyReLU)   (None, 32)                0         \n",
            "                                                                 \n",
            " dense_14 (Dense)            (None, 10)                330       \n",
            "                                                                 \n",
            "=================================================================\n",
            "Total params: 53034 (207.16 KB)\n",
            "Trainable params: 52842 (206.41 KB)\n",
            "Non-trainable params: 192 (768.00 Byte)\n",
            "_________________________________________________________________\n"
          ]
        }
      ]
    },
    {
      "cell_type": "code",
      "source": [
        "# 모델 검증 (HDF5 포맷)\n",
        "loss,acc=h5_model.evaluate(x_test,y_test,verbose=0)\n",
        "print(f'h5 model]loss:{loss:.5f},acc:{acc:.5f}')\n",
        "\n",
        "# 모델 검증 (SavedModel 포맷)\n",
        "loss,acc=saved_model.evaluate(x_test,y_test,verbose=0)\n",
        "print(f'saved_ model]loss:{loss:.5f},acc:{acc:.5f}')"
      ],
      "metadata": {
        "colab": {
          "base_uri": "https://localhost:8080/"
        },
        "id": "FujV9aHlkUfE",
        "outputId": "68cc867e-e0b2-4884-a2b5-48198cae144f"
      },
      "execution_count": 29,
      "outputs": [
        {
          "output_type": "stream",
          "name": "stdout",
          "text": [
            "h5 model]loss:0.08339,acc:0.97490\n",
            "saved_ model]loss:0.08339,acc:0.97490\n"
          ]
        }
      ]
    },
    {
      "cell_type": "markdown",
      "source": [
        "## 07 복잡한 모델 생성\n",
        "### 7.1 함수형 API\n",
        "- 함수의 입력 매개변수를 여러개 갖는 다중 입력\n",
        "- 함수의 return 값을 여러개 갖는 다중 출력\n",
        "-같은 레벨에 여러개의 층을 배치하여 입력과 출력을 공유하는 구조"
      ],
      "metadata": {
        "id": "J92yVdzzk6lI"
      }
    },
    {
      "cell_type": "code",
      "source": [
        "# 모델의 레이어를 체인 구조로 연결 Input 레이어 정의\n",
        "input_layer=tf.keras.Input(shape=(28,28),name='InputLayer')\n",
        "\n",
        "# 모델의 레이어를 체인 구조로 연결\n",
        "x1=tf.keras.layers.Flatten(name='Flatten')(input_layer)\n",
        "x2=tf.keras.layers.Dense(256,activation='relu',name='Dense1')(x1)\n",
        "x3=tf.keras.layers.Dense(64,activation='relu',name='Dense2')(x2)\n",
        "x4=tf.keras.layers.Dense(10,activation='softmax',name='OutputLayer')(x3)"
      ],
      "metadata": {
        "id": "BFg5KKcmkqIr"
      },
      "execution_count": 30,
      "outputs": []
    },
    {
      "cell_type": "code",
      "source": [
        "# 모델 생성\n",
        "func_model=tf.keras.Model(inputs=input_layer,outputs=x4,name='FunctionalModel')\n",
        "\n",
        "# 모델 요약\n",
        "func_model.summary()"
      ],
      "metadata": {
        "colab": {
          "base_uri": "https://localhost:8080/"
        },
        "id": "rTeHrEANjXur",
        "outputId": "eacf38ff-16ce-4a94-c8a7-b709facf10a6"
      },
      "execution_count": 31,
      "outputs": [
        {
          "output_type": "stream",
          "name": "stdout",
          "text": [
            "Model: \"FunctionalModel\"\n",
            "_________________________________________________________________\n",
            " Layer (type)                Output Shape              Param #   \n",
            "=================================================================\n",
            " InputLayer (InputLayer)     [(None, 28, 28)]          0         \n",
            "                                                                 \n",
            " Flatten (Flatten)           (None, 784)               0         \n",
            "                                                                 \n",
            " Dense1 (Dense)              (None, 256)               200960    \n",
            "                                                                 \n",
            " Dense2 (Dense)              (None, 64)                16448     \n",
            "                                                                 \n",
            " OutputLayer (Dense)         (None, 10)                650       \n",
            "                                                                 \n",
            "=================================================================\n",
            "Total params: 218058 (851.79 KB)\n",
            "Trainable params: 218058 (851.79 KB)\n",
            "Non-trainable params: 0 (0.00 Byte)\n",
            "_________________________________________________________________\n"
          ]
        }
      ]
    },
    {
      "cell_type": "markdown",
      "source": [
        "- plot_model 모듈 활용하여 모델의 구조도 시각화"
      ],
      "metadata": {
        "id": "cLPzqHnYm56W"
      }
    },
    {
      "cell_type": "code",
      "source": [
        "from tensorflow.keras.utils import plot_model\n",
        "# 구조도 시각화\n",
        "plot_model(func_model,show_shapes=True,show_layer_names=True,to_file='model.png')"
      ],
      "metadata": {
        "colab": {
          "base_uri": "https://localhost:8080/",
          "height": 533
        },
        "id": "mW2zovrbjXxd",
        "outputId": "9c7f6c7d-3861-4669-9f20-b766a930af9a"
      },
      "execution_count": 34,
      "outputs": [
        {
          "output_type": "execute_result",
          "data": {
            "image/png": "[encoded data removed]",
            "text/plain": [
              "<IPython.core.display.Image object>"
            ]
          },
          "metadata": {},
          "execution_count": 34
        }
      ]
    },
    {
      "cell_type": "code",
      "source": [
        "# 컴파일\n",
        "func_model.compile(optimizer='adam',loss='sparse_categorical_crossentropy',\n",
        "                   metrics=['accuracy'])\n",
        "\n",
        "# 훈련\n",
        "func_model.fit(x_train,y_train,epochs=3)\n",
        "\n",
        "# 검증\n",
        "loss,acc=func_model.evaluate(x_test,y_test,verbose=0)\n",
        "print(f'Functional Model] loss:{loss:.5f},acc:{acc:.5f}')"
      ],
      "metadata": {
        "colab": {
          "base_uri": "https://localhost:8080/"
        },
        "id": "PjyW9EZ9jX0U",
        "outputId": "0d34f0aa-83f8-4f7c-b626-72656938a338"
      },
      "execution_count": 36,
      "outputs": [
        {
          "output_type": "stream",
          "name": "stdout",
          "text": [
            "Epoch 1/3\n",
            "1875/1875 [==============================] - 15s 8ms/step - loss: 0.2164 - accuracy: 0.9370\n",
            "Epoch 2/3\n",
            "1875/1875 [==============================] - 10s 5ms/step - loss: 0.0878 - accuracy: 0.9730\n",
            "Epoch 3/3\n",
            "1875/1875 [==============================] - 10s 5ms/step - loss: 0.0602 - accuracy: 0.9812\n",
            "Functional Model] loss:0.09712,acc:0.96980\n"
          ]
        }
      ]
    },
    {
      "cell_type": "markdown",
      "source": [
        "### 7-2 모델 서브 클래싱"
      ],
      "metadata": {
        "id": "OKI1Sqmdnmy8"
      }
    },
    {
      "cell_type": "code",
      "source": [
        "class MyModel(tf.keras.Model):\n",
        "    def __init__(self):\n",
        "        super(MyModel,self).__init__()\n",
        "        self.flatten = tf.keras.layers.Flatten()\n",
        "        self.dense1 = tf.keras.layers.Dense(256,activation='relu')\n",
        "        self.dense2 = tf.keras.layers.Dense(64,activation='relu')\n",
        "        self.dense3 = tf.keras.layers.Dense(10,activation='softmax')\n",
        "\n",
        "    # method overiding\n",
        "    # 훈련용 함수 정의\n",
        "    # x는 input\n",
        "    def call(self,x):\n",
        "        x = self.flatten(x)\n",
        "        x = self.dense1(x)\n",
        "        x = self.dense2(x)\n",
        "        x = self.dense3(x)\n",
        "        return x"
      ],
      "metadata": {
        "id": "wYY5yI7djX3V"
      },
      "execution_count": 37,
      "outputs": []
    },
    {
      "cell_type": "markdown",
      "source": [
        "- call () 함수 내부에서는 모델의 입력부터 출력까지의 흐름, 순전파를 정의하고 함수형 API와 같은 방식으로 모든 레이어를 체인처럼 연결, 출력값을 return"
      ],
      "metadata": {
        "id": "juKbxi2_n7A9"
      }
    },
    {
      "cell_type": "code",
      "source": [
        "# 모델 생성\n",
        "mymodel=MyModel()\n",
        "\n",
        "# 모델의 이름 설정\n",
        "mymodel._name='subclass_model'\n",
        "\n",
        "# 모델의 input 정의\n",
        "mymodel(tf.keras.layers.Input(shape=(28,28)))\n",
        "\n",
        "# 모델 요약\n",
        "mymodel.summary()"
      ],
      "metadata": {
        "id": "0shI6JwqTBh8",
        "colab": {
          "base_uri": "https://localhost:8080/"
        },
        "outputId": "c3e44cec-69b8-4271-b715-e669003c6cda"
      },
      "execution_count": 38,
      "outputs": [
        {
          "output_type": "stream",
          "name": "stdout",
          "text": [
            "Model: \"subclass_model\"\n",
            "_________________________________________________________________\n",
            " Layer (type)                Output Shape              Param #   \n",
            "=================================================================\n",
            " flatten_3 (Flatten)         multiple                  0         \n",
            "                                                                 \n",
            " dense_15 (Dense)            multiple                  200960    \n",
            "                                                                 \n",
            " dense_16 (Dense)            multiple                  16448     \n",
            "                                                                 \n",
            " dense_17 (Dense)            multiple                  650       \n",
            "                                                                 \n",
            "=================================================================\n",
            "Total params: 218058 (851.79 KB)\n",
            "Trainable params: 218058 (851.79 KB)\n",
            "Non-trainable params: 0 (0.00 Byte)\n",
            "_________________________________________________________________\n"
          ]
        }
      ]
    },
    {
      "cell_type": "code",
      "source": [
        "# 컴파일\n",
        "mymodel.compile(optimizer='adam',loss='sparse_categorical_crossentropy',metrics=['accuracy'])\n",
        "\n",
        "# 훈련\n",
        "mymodel.fit(x_train,y_train,epochs=3)\n",
        "\n",
        "# 검증\n",
        "loss, acc=mymodel.evaluate(x_test,y_test,verbose=0)\n",
        "print(f'Subclassing Model]loss:{loss:.5f},acc:{acc:.5f}')"
      ],
      "metadata": {
        "colab": {
          "base_uri": "https://localhost:8080/"
        },
        "id": "8Pt-iCb4oUf1",
        "outputId": "fb96e534-fc67-4dfa-bbbf-a6a16d902a55"
      },
      "execution_count": 40,
      "outputs": [
        {
          "output_type": "stream",
          "name": "stdout",
          "text": [
            "Epoch 1/3\n",
            "1875/1875 [==============================] - 12s 6ms/step - loss: 0.2145 - accuracy: 0.9366\n",
            "Epoch 2/3\n",
            "1875/1875 [==============================] - 11s 6ms/step - loss: 0.0861 - accuracy: 0.9732\n",
            "Epoch 3/3\n",
            "1875/1875 [==============================] - 14s 8ms/step - loss: 0.0612 - accuracy: 0.9807\n",
            "Subclassing Model]loss:0.08725,acc:0.97210\n"
          ]
        }
      ]
    },
    {
      "cell_type": "markdown",
      "source": [
        "### 7-3 서브클래싱 모델 파라미터를 활용한 생성"
      ],
      "metadata": {
        "id": "yiim9_JzovqV"
      }
    },
    {
      "cell_type": "code",
      "source": [
        "class MyModel(tf.keras.Model):\n",
        "\n",
        "    # 생성자 파라미터 추가\n",
        "    def __init__(self, units, num_classes):\n",
        "        super(MyModel,self).__init__()\n",
        "        #초기값 설정\n",
        "        self.flatten = tf.keras.layers.Flatten()\n",
        "        self.dense1 = tf.keras.layers.Dense(units,activation='relu')\n",
        "        self.dense2 = tf.keras.layers.Dense(units/4,activation='relu')\n",
        "        self.dense3 = tf.keras.layers.Dense(num_classes,activation='softmax')\n",
        "\n",
        "    # class overiding\n",
        "    # 훈련용 함수 정의\n",
        "    # x는 input\n",
        "    def call(self,x):\n",
        "        x = self.flatten(x)\n",
        "        x = self.dense1(x)\n",
        "        x = self.dense2(x)\n",
        "        x = self.dense3(x)\n",
        "        return x"
      ],
      "metadata": {
        "id": "JoZIf-JGoUqk"
      },
      "execution_count": 42,
      "outputs": []
    },
    {
      "cell_type": "code",
      "source": [
        "# 모델 생성\n",
        "mymodel = MyModel(256,10)\n",
        "\n",
        "# 모델 input 정의\n",
        "mymodel(tf.keras.layers.Input(shape=(28,28)))\n",
        "\n",
        "# 모델 요약\n",
        "mymodel.summary()"
      ],
      "metadata": {
        "colab": {
          "base_uri": "https://localhost:8080/"
        },
        "id": "kUQkeoQpoUvX",
        "outputId": "d1d2d606-cb46-4449-8d53-be3447b6d911"
      },
      "execution_count": 43,
      "outputs": [
        {
          "output_type": "stream",
          "name": "stdout",
          "text": [
            "Model: \"my_model_1\"\n",
            "_________________________________________________________________\n",
            " Layer (type)                Output Shape              Param #   \n",
            "=================================================================\n",
            " flatten_4 (Flatten)         multiple                  0         \n",
            "                                                                 \n",
            " dense_18 (Dense)            multiple                  200960    \n",
            "                                                                 \n",
            " dense_19 (Dense)            multiple                  16448     \n",
            "                                                                 \n",
            " dense_20 (Dense)            multiple                  650       \n",
            "                                                                 \n",
            "=================================================================\n",
            "Total params: 218058 (851.79 KB)\n",
            "Trainable params: 218058 (851.79 KB)\n",
            "Non-trainable params: 0 (0.00 Byte)\n",
            "_________________________________________________________________\n"
          ]
        }
      ]
    },
    {
      "cell_type": "code",
      "source": [
        "mymodel.compile(optimizer=\"adam\", loss=\"sparse_categorical_crossentropy\",metrics=[\"accuracy\"])\n",
        "\n",
        "mymodel.fit(x_train,y_train, epochs=3)\n",
        "\n",
        "loss, acc = mymodel.evaluate(x_test,y_test,verbose=0)\n",
        "print(f\"Subclassing Model w.parameters]loss:{loss:.5f}.acc:{acc:.5f}\")"
      ],
      "metadata": {
        "colab": {
          "base_uri": "https://localhost:8080/"
        },
        "id": "d041Yi5ZoUx9",
        "outputId": "d8cf013a-bcfe-4d61-e289-e0151fdc111e"
      },
      "execution_count": 44,
      "outputs": [
        {
          "output_type": "stream",
          "name": "stdout",
          "text": [
            "Epoch 1/3\n",
            "1875/1875 [==============================] - 12s 6ms/step - loss: 0.2143 - accuracy: 0.9361\n",
            "Epoch 2/3\n",
            "1875/1875 [==============================] - 11s 6ms/step - loss: 0.0867 - accuracy: 0.9733\n",
            "Epoch 3/3\n",
            "1875/1875 [==============================] - 12s 6ms/step - loss: 0.0594 - accuracy: 0.9815\n",
            "Subclassing Model w.parameters]loss:0.07716.acc:0.97510\n"
          ]
        }
      ]
    }
  ]
}