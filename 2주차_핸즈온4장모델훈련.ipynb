{
  "nbformat": 4,
  "nbformat_minor": 0,
  "metadata": {
    "colab": {
      "provenance": [],
      "authorship_tag": "ABX9TyNz8wfwKqHlC6KU2oW3Sh2Z",
      "include_colab_link": true
    },
    "kernelspec": {
      "name": "python3",
      "display_name": "Python 3"
    },
    "language_info": {
      "name": "python"
    }
  },
  "cells": [
    {
      "cell_type": "markdown",
      "metadata": {
        "id": "view-in-github",
        "colab_type": "text"
      },
      "source": [
        "<a href=\"https://colab.research.google.com/github/aaoiii/2024-ESAA-OB/blob/main/2%EC%A3%BC%EC%B0%A8_%ED%95%B8%EC%A6%88%EC%98%A84%EC%9E%A5%EB%AA%A8%EB%8D%B8%ED%9B%88%EB%A0%A8.ipynb\" target=\"_parent\"><img src=\"https://colab.research.google.com/assets/colab-badge.svg\" alt=\"Open In Colab\"/></a>"
      ]
    },
    {
      "cell_type": "markdown",
      "source": [
        "# Chapter 4. 모델 훈련\n",
        "\n",
        "- 선형회귀\n",
        "  - 직접 계산할 수 있는 공식을 사용하여 훈련 세트에 가장 잘 맞는 모델 파라미터 구하기\n",
        "  ![Ch04_모델 훈련.png]()- 경사하강법 사용\n",
        "\n",
        "- 다항회귀\n",
        "- 과대적합 감지 by 학습 곡선\n",
        "- 분류 : 로지스틱 회귀 / 소프트맥스 회귀"
      ],
      "metadata": {
        "id": "dYaghUjVtzLQ"
      }
    },
    {
      "cell_type": "markdown",
      "source": [
        "## 4.1 선형 회귀\n",
        "\n",
        "- 선형 모델 : 입력 특성의 가중치 합과 편향을 더해 예측을 만든다\n",
        "- 성능 측정 지표 : RMSE\n",
        "  - RMSE를 최소화하는 세타 찾기\n",
        "\n",
        "### 4.1.1 정규방정식\n",
        "- 비용함수를 최소화하는 세타값을 찾기 위한 해석적인 방법\n"
      ],
      "metadata": {
        "id": "724D95c-u7br"
      }
    },
    {
      "cell_type": "code",
      "execution_count": 5,
      "metadata": {
        "id": "zmsB2K9lsYbX"
      },
      "outputs": [],
      "source": [
        "import numpy as np\n",
        "\n",
        "X=2*np.random.rand(100,1)\n",
        "y=4+3*X+np.random.randn(100,1)"
      ]
    },
    {
      "cell_type": "code",
      "source": [
        "X_b=np.c_[np.ones((100,1)),X] # 모든 샘플에 x0=1을 추가한다\n",
        "theta_best=np.linalg.inv(X_b.T.dot(X_b)).dot(X_b.T).dot(y)"
      ],
      "metadata": {
        "id": "SANSuBwOwcWd"
      },
      "execution_count": 6,
      "outputs": []
    },
    {
      "cell_type": "code",
      "source": [
        "theta_best"
      ],
      "metadata": {
        "colab": {
          "base_uri": "https://localhost:8080/"
        },
        "id": "ddTNJCMowu6F",
        "outputId": "0526be4e-9885-45ed-d051-102c98762d6c"
      },
      "execution_count": 7,
      "outputs": [
        {
          "output_type": "execute_result",
          "data": {
            "text/plain": [
              "array([[3.9208158 ],\n",
              "       [2.96522374]])"
            ]
          },
          "metadata": {},
          "execution_count": 7
        }
      ]
    },
    {
      "cell_type": "code",
      "source": [
        "X_new=np.array([[0],[2]])\n",
        "X_new_b=np.c_[np.ones((2,1)),X_new] # 모든 샘플에 x0=1을 추가한다\n",
        "y_predict=X_new_b.dot(theta_best)\n",
        "y_predict"
      ],
      "metadata": {
        "colab": {
          "base_uri": "https://localhost:8080/"
        },
        "id": "ygBM4IQDwvVr",
        "outputId": "9c05856f-7986-4965-fd35-00ba3e26118f"
      },
      "execution_count": 8,
      "outputs": [
        {
          "output_type": "execute_result",
          "data": {
            "text/plain": [
              "array([[3.9208158 ],\n",
              "       [9.85126328]])"
            ]
          },
          "metadata": {},
          "execution_count": 8
        }
      ]
    },
    {
      "cell_type": "code",
      "source": [
        "import matplotlib.pyplot as plt\n",
        "plt.plot(X_new,y_predict,\"r-\")\n",
        "plt.plot(X,y,\"b.\")\n",
        "plt.axis([0,2,0,15])\n",
        "plt.show()"
      ],
      "metadata": {
        "colab": {
          "base_uri": "https://localhost:8080/",
          "height": 430
        },
        "id": "COOFjmVfwvZz",
        "outputId": "78288479-be79-4245-9e02-a88e2172c332"
      },
      "execution_count": 9,
      "outputs": [
        {
          "output_type": "display_data",
          "data": {
            "text/plain": [
              "<Figure size 640x480 with 1 Axes>"
            ],
            "image/png": "[encoded data removed]"
          },
          "metadata": {}
        }
      ]
    },
    {
      "cell_type": "code",
      "source": [
        "from sklearn.linear_model import LinearRegression\n",
        "lin_reg=LinearRegression()\n",
        "lin_reg.fit(X,y)\n",
        "lin_reg.intercept_,lin_reg.coef_\n",
        "lin_reg.predict(X_new)"
      ],
      "metadata": {
        "colab": {
          "base_uri": "https://localhost:8080/"
        },
        "id": "3LjSQMePwvcw",
        "outputId": "d0f2b93b-10d4-4c7e-eda4-9f015b3c34ca"
      },
      "execution_count": 10,
      "outputs": [
        {
          "output_type": "execute_result",
          "data": {
            "text/plain": [
              "array([[3.9208158 ],\n",
              "       [9.85126328]])"
            ]
          },
          "metadata": {},
          "execution_count": 10
        }
      ]
    },
    {
      "cell_type": "code",
      "source": [
        "theta_best_svd,residuals,rank,s=np.linalg.lstsq(X_b,y,rcond=1e-6)\n",
        "theta_best_svd"
      ],
      "metadata": {
        "colab": {
          "base_uri": "https://localhost:8080/"
        },
        "id": "9uzeEXxpwvfg",
        "outputId": "2e992b2a-eca6-4ec6-f37b-db211d2e2de5"
      },
      "execution_count": 11,
      "outputs": [
        {
          "output_type": "execute_result",
          "data": {
            "text/plain": [
              "array([[3.9208158 ],\n",
              "       [2.96522374]])"
            ]
          },
          "metadata": {},
          "execution_count": 11
        }
      ]
    },
    {
      "cell_type": "code",
      "source": [
        "# np.linalg.pinv() 함수로 유사역행렬을 직접 구할 수 있다\n",
        "np.linalg.pinv(X_b).dot(y)"
      ],
      "metadata": {
        "colab": {
          "base_uri": "https://localhost:8080/"
        },
        "id": "6U-DnxtBwviO",
        "outputId": "72e05b80-ab96-49af-cf0c-0ba18b8035f3"
      },
      "execution_count": 12,
      "outputs": [
        {
          "output_type": "execute_result",
          "data": {
            "text/plain": [
              "array([[3.9208158 ],\n",
              "       [2.96522374]])"
            ]
          },
          "metadata": {},
          "execution_count": 12
        }
      ]
    },
    {
      "cell_type": "markdown",
      "source": [
        "- 유사역행렬 자체는 특잇값 분해로 계산된다\n",
        "- 훈련세트 행렬 X를 3개의 행렬 곱셈으로 분해"
      ],
      "metadata": {
        "id": "DjMD5EMyybWO"
      }
    },
    {
      "cell_type": "markdown",
      "source": [
        "## 4.1.2 계산 복잡도\n",
        "\n",
        "- 계산 복잡도 : O(n^2.4) ~ O(n^3)\n"
      ],
      "metadata": {
        "id": "GdK4naqYymxv"
      }
    },
    {
      "cell_type": "markdown",
      "source": [
        "## 4.2 경사 하강법\n",
        "\n",
        "- 파라미터 벡터 세타에 대해 비용함수의 현재 그레이디언트를 계산하고 감소하는 방향으로 진행\n",
        "- 무작위 초기화\n",
        "- 하이퍼 파라미터 : 학습률\n",
        "- 문제점 : 무작위 초기화 때문에 전역최솟값보다 덜 좋은 지역 최솟값에 수렴할 수도 있다\n",
        "  - 선형회귀를 위한 MSE 비용함수는 두점을 선택해 선을 그어도 곡선이 겹치지 않는 볼록함수라서 지역최솟값이 없고 하나의 전역 최솟값만 있다 & 연속함수\n",
        "  => 경사하강법이 전역 최솟값에 가깝게 접근할 수 있다\n",
        "\n",
        "- 경사하강법을 사용할 때에는 모든 특성이 같은 스케일을 가져야한다!\n",
        "- 파라미터 공간에서 파라미터 조합을 찾는 일 : 모델 훈련"
      ],
      "metadata": {
        "id": "6HBVCbqky6KD"
      }
    },
    {
      "cell_type": "markdown",
      "source": [
        "## 4.2.1 배치 경사 하강법\n",
        "\n",
        "- 편도함수 : 세타j가 조금 변경될 때 비용함수가 얼마나 바뀌는지 계산\n",
        "- 배치 경사 하강법 : 매 스텝에서 훈련 데이터 전체를 사용한다"
      ],
      "metadata": {
        "id": "IKTLrBfoznsT"
      }
    },
    {
      "cell_type": "code",
      "source": [
        "eta=0.1 # 학습률\n",
        "n_iterations=1000\n",
        "m=100\n",
        "\n",
        "theta=np.random.randn(2,1)\n",
        "\n",
        "for iteration in range(n_iterations):\n",
        "  gradients=2/m*X_b.T.dot(X_b.dot(theta)-y)\n",
        "  theta=theta-eta*gradients"
      ],
      "metadata": {
        "id": "Q6kgWLc7wvk6"
      },
      "execution_count": 13,
      "outputs": []
    },
    {
      "cell_type": "code",
      "source": [
        "theta"
      ],
      "metadata": {
        "colab": {
          "base_uri": "https://localhost:8080/"
        },
        "id": "N4CxLFXQwvoH",
        "outputId": "24eb5983-0768-4e73-c5d9-b64e3b306ec3"
      },
      "execution_count": 14,
      "outputs": [
        {
          "output_type": "execute_result",
          "data": {
            "text/plain": [
              "array([[3.9208158 ],\n",
              "       [2.96522374]])"
            ]
          },
          "metadata": {},
          "execution_count": 14
        }
      ]
    },
    {
      "cell_type": "markdown",
      "source": [
        "- 적절한 학습률을 찾으려면 그리드 탐색을 이용한다\n",
        "- 반복횟수를 제한해야한다\n",
        "  - 반복 횟수를 아주 크게 지정하고 그레디언트 벡터가 아주 작아지면(벡터 NORM이 허용오차보다 작아지면) 알고리즘 중지"
      ],
      "metadata": {
        "id": "5g7fm42l0fOz"
      }
    },
    {
      "cell_type": "markdown",
      "source": [
        "## 4.2.2 확률적 경사 하강법\n",
        "\n",
        ": 매 스텝에서 한 개의 샘플을 무작위로 선택하고 그 하나의 샘플에 대한 그레디언트를 계산\n",
        "  => 속도 훨씬 빠르다 & 매우 큰 훈련 세트도 훈련시킬 수 있다\n",
        "- 확률적이기 때문에 불안정하다 (요동치면서 감소)\n",
        "  => 지역 최솟값을 건너뛸 수도 있다\n",
        "  - 지역 최솟값에서 탈출시켜서 좋지만 전역 최솟값에 다다르지 못하게 한다\n",
        "  => 학습률을 점진적으로 감소시키기!\n",
        "  (담금질 기법 알고리즘과 유사)\n",
        "  => 학습 스케줄 : 매 반복에서 학습률 결정하는 함수"
      ],
      "metadata": {
        "id": "Ft35o5Vc0x3k"
      }
    },
    {
      "cell_type": "code",
      "source": [
        "n_epochs=50\n",
        "t0,t1=5,50 # 학습 스케줄 하이퍼파라미터\n",
        "\n",
        "def learning_schedule(t):\n",
        "  return t0/(t+t1)\n",
        "\n",
        "theta=np.random.randn(2,1) # 무작위 초기화\n",
        "\n",
        "for epoch in range(n_epochs):\n",
        "  for i in range(m):\n",
        "    random_index=np.random.randint(m)\n",
        "    xi=X_b[random_index:random_index+1]\n",
        "    yi=y[random_index:random_index+1]\n",
        "    gradients=2*xi.T.dot(xi.dot(theta)-yi)\n",
        "    eta=learning_schedule(epoch*m+i)\n",
        "    theta=theta-eta*gradients"
      ],
      "metadata": {
        "id": "e9cjgGM-0bXP"
      },
      "execution_count": 15,
      "outputs": []
    },
    {
      "cell_type": "code",
      "source": [
        "theta"
      ],
      "metadata": {
        "colab": {
          "base_uri": "https://localhost:8080/"
        },
        "id": "5vmGhQZr0bZz",
        "outputId": "58860c58-14f5-4c54-dd8c-9054c02fcebf"
      },
      "execution_count": 16,
      "outputs": [
        {
          "output_type": "execute_result",
          "data": {
            "text/plain": [
              "array([[3.9339124 ],\n",
              "       [2.94344244]])"
            ]
          },
          "metadata": {},
          "execution_count": 16
        }
      ]
    },
    {
      "cell_type": "code",
      "source": [
        "from sklearn.linear_model import SGDRegressor\n",
        "# 최대 1000번 에포크동안 실행, 한 에포크에서 0.001보다 적게 손실이 줄어들 때까지 실행, 학습률 0.1\n",
        "sgd_reg=SGDRegressor(max_iter=1000,tol=1e-3,penalty=None,eta0=0.1)\n",
        "sgd_reg.fit(X,y.ravel())"
      ],
      "metadata": {
        "colab": {
          "base_uri": "https://localhost:8080/",
          "height": 74
        },
        "id": "-VyEQCdI0bcW",
        "outputId": "ff0977e7-44e0-4b42-91e3-89c1f735e9c9"
      },
      "execution_count": 17,
      "outputs": [
        {
          "output_type": "execute_result",
          "data": {
            "text/plain": [
              "SGDRegressor(eta0=0.1, penalty=None)"
            ],
            "text/html": [
              "<style>#sk-container-id-1 {color: black;background-color: white;}#sk-container-id-1 pre{padding: 0;}#sk-container-id-1 div.sk-toggleable {background-color: white;}#sk-container-id-1 label.sk-toggleable__label {cursor: pointer;display: block;width: 100%;margin-bottom: 0;padding: 0.3em;box-sizing: border-box;text-align: center;}#sk-container-id-1 label.sk-toggleable__label-arrow:before {content: \"▸\";float: left;margin-right: 0.25em;color: #696969;}#sk-container-id-1 label.sk-toggleable__label-arrow:hover:before {color: black;}#sk-container-id-1 div.sk-estimator:hover label.sk-toggleable__label-arrow:before {color: black;}#sk-container-id-1 div.sk-toggleable__content {max-height: 0;max-width: 0;overflow: hidden;text-align: left;background-color: #f0f8ff;}#sk-container-id-1 div.sk-toggleable__content pre {margin: 0.2em;color: black;border-radius: 0.25em;background-color: #f0f8ff;}#sk-container-id-1 input.sk-toggleable__control:checked~div.sk-toggleable__content {max-height: 200px;max-width: 100%;overflow: auto;}#sk-container-id-1 input.sk-toggleable__control:checked~label.sk-toggleable__label-arrow:before {content: \"▾\";}#sk-container-id-1 div.sk-estimator input.sk-toggleable__control:checked~label.sk-toggleable__label {background-color: #d4ebff;}#sk-container-id-1 div.sk-label input.sk-toggleable__control:checked~label.sk-toggleable__label {background-color: #d4ebff;}#sk-container-id-1 input.sk-hidden--visually {border: 0;clip: rect(1px 1px 1px 1px);clip: rect(1px, 1px, 1px, 1px);height: 1px;margin: -1px;overflow: hidden;padding: 0;position: absolute;width: 1px;}#sk-container-id-1 div.sk-estimator {font-family: monospace;background-color: #f0f8ff;border: 1px dotted black;border-radius: 0.25em;box-sizing: border-box;margin-bottom: 0.5em;}#sk-container-id-1 div.sk-estimator:hover {background-color: #d4ebff;}#sk-container-id-1 div.sk-parallel-item::after {content: \"\";width: 100%;border-bottom: 1px solid gray;flex-grow: 1;}#sk-container-id-1 div.sk-label:hover label.sk-toggleable__label {background-color: #d4ebff;}#sk-container-id-1 div.sk-serial::before {content: \"\";position: absolute;border-left: 1px solid gray;box-sizing: border-box;top: 0;bottom: 0;left: 50%;z-index: 0;}#sk-container-id-1 div.sk-serial {display: flex;flex-direction: column;align-items: center;background-color: white;padding-right: 0.2em;padding-left: 0.2em;position: relative;}#sk-container-id-1 div.sk-item {position: relative;z-index: 1;}#sk-container-id-1 div.sk-parallel {display: flex;align-items: stretch;justify-content: center;background-color: white;position: relative;}#sk-container-id-1 div.sk-item::before, #sk-container-id-1 div.sk-parallel-item::before {content: \"\";position: absolute;border-left: 1px solid gray;box-sizing: border-box;top: 0;bottom: 0;left: 50%;z-index: -1;}#sk-container-id-1 div.sk-parallel-item {display: flex;flex-direction: column;z-index: 1;position: relative;background-color: white;}#sk-container-id-1 div.sk-parallel-item:first-child::after {align-self: flex-end;width: 50%;}#sk-container-id-1 div.sk-parallel-item:last-child::after {align-self: flex-start;width: 50%;}#sk-container-id-1 div.sk-parallel-item:only-child::after {width: 0;}#sk-container-id-1 div.sk-dashed-wrapped {border: 1px dashed gray;margin: 0 0.4em 0.5em 0.4em;box-sizing: border-box;padding-bottom: 0.4em;background-color: white;}#sk-container-id-1 div.sk-label label {font-family: monospace;font-weight: bold;display: inline-block;line-height: 1.2em;}#sk-container-id-1 div.sk-label-container {text-align: center;}#sk-container-id-1 div.sk-container {/* jupyter's `normalize.less` sets `[hidden] { display: none; }` but bootstrap.min.css set `[hidden] { display: none !important; }` so we also need the `!important` here to be able to override the default hidden behavior on the sphinx rendered scikit-learn.org. See: https://github.com/scikit-learn/scikit-learn/issues/21755 */display: inline-block !important;position: relative;}#sk-container-id-1 div.sk-text-repr-fallback {display: none;}</style><div id=\"sk-container-id-1\" class=\"sk-top-container\"><div class=\"sk-text-repr-fallback\"><pre>SGDRegressor(eta0=0.1, penalty=None)</pre><b>In a Jupyter environment, please rerun this cell to show the HTML representation or trust the notebook. <br />On GitHub, the HTML representation is unable to render, please try loading this page with nbviewer.org.</b></div><div class=\"sk-container\" hidden><div class=\"sk-item\"><div class=\"sk-estimator sk-toggleable\"><input class=\"sk-toggleable__control sk-hidden--visually\" id=\"sk-estimator-id-1\" type=\"checkbox\" checked><label for=\"sk-estimator-id-1\" class=\"sk-toggleable__label sk-toggleable__label-arrow\">SGDRegressor</label><div class=\"sk-toggleable__content\"><pre>SGDRegressor(eta0=0.1, penalty=None)</pre></div></div></div></div></div>"
            ]
          },
          "metadata": {},
          "execution_count": 17
        }
      ]
    },
    {
      "cell_type": "code",
      "source": [
        "sgd_reg.intercept_,sgd_reg.coef_"
      ],
      "metadata": {
        "colab": {
          "base_uri": "https://localhost:8080/"
        },
        "id": "uF0Jtkwq0bes",
        "outputId": "a5d440c2-86c8-4fc7-e0fd-1f4dfc63e4d0"
      },
      "execution_count": 18,
      "outputs": [
        {
          "output_type": "execute_result",
          "data": {
            "text/plain": [
              "(array([3.94733361]), array([3.00614249]))"
            ]
          },
          "metadata": {},
          "execution_count": 18
        }
      ]
    },
    {
      "cell_type": "markdown",
      "source": [
        "## 4.2.3 미니배치 경사 하강법\n",
        "\n",
        "- 미니배치라는 임의의 작은 샘플 세트에 대해 그레디언트 계산\n",
        "- 행렬 연산에 최적화된 하드웨어, GPU를 사용해서 얻는 성능 향상\n",
        "- 미니배치를 크게하면 SGD보다 덜 불규칙하게 움직인다\n",
        "=> 미니배치 경사하강법이 SGD보다 최솟값에 더 가까이 도달 but 지역 최솟값에서 빠져나오기는 더 힘들수도 있다"
      ],
      "metadata": {
        "id": "3fRKG9Gc2q7N"
      }
    },
    {
      "cell_type": "markdown",
      "source": [
        "## 4.3 다항 회귀"
      ],
      "metadata": {
        "id": "OC4eiruz3MWY"
      }
    },
    {
      "cell_type": "code",
      "source": [
        "m=100\n",
        "X=6*np.random.rand(m,1)-3\n",
        "y=0.5*X**2+X+2+np.random.randn(m,1)"
      ],
      "metadata": {
        "id": "FawPjrOW0bhG"
      },
      "execution_count": 19,
      "outputs": []
    },
    {
      "cell_type": "code",
      "source": [
        "from sklearn.preprocessing import PolynomialFeatures\n",
        "poly_features=PolynomialFeatures(degree=2,include_bias=False)\n",
        "X_poly=poly_features.fit_transform(X)\n",
        "X[0]\n",
        "X_poly[0]"
      ],
      "metadata": {
        "colab": {
          "base_uri": "https://localhost:8080/"
        },
        "id": "LBIBsyD20bjq",
        "outputId": "aeeff518-6c28-4e7d-cacd-977e532cc98d"
      },
      "execution_count": 20,
      "outputs": [
        {
          "output_type": "execute_result",
          "data": {
            "text/plain": [
              "array([2.93667051, 8.62403366])"
            ]
          },
          "metadata": {},
          "execution_count": 20
        }
      ]
    },
    {
      "cell_type": "code",
      "source": [
        "lin_reg=LinearRegression()\n",
        "lin_reg.fit(X_poly,y)\n",
        "lin_reg.intercept_,lin_reg.coef_"
      ],
      "metadata": {
        "colab": {
          "base_uri": "https://localhost:8080/"
        },
        "id": "ggkZghb30bmQ",
        "outputId": "711e0dbb-9a70-4ef5-b1fc-29cc1ac83091"
      },
      "execution_count": 21,
      "outputs": [
        {
          "output_type": "execute_result",
          "data": {
            "text/plain": [
              "(array([1.97629869]), array([[0.97501796, 0.53720025]]))"
            ]
          },
          "metadata": {},
          "execution_count": 21
        }
      ]
    },
    {
      "cell_type": "markdown",
      "source": [
        "## 4.4 학습 곡선\n",
        "\n"
      ],
      "metadata": {
        "id": "hrayaqcG3zoC"
      }
    },
    {
      "cell_type": "code",
      "source": [
        "from sklearn.metrics import mean_squared_error\n",
        "from sklearn.model_selection import train_test_split\n",
        "\n",
        "def plot_learning_curves(model,X,y):\n",
        "  X_train,X_val,y_train,y_val=train_test_split(X,y,test_size=0.2)\n",
        "  train_errors,val_errors=[],[]\n",
        "  for m in range(1,len(X_train)):\n",
        "    model.fit(X_train[:m],y_train[:m])\n",
        "    y_train_predict=model.predict(X_train[:m])\n",
        "    y_val_predict=model.predict(X_val)\n",
        "    train_errors.append(mean_squared_error(y_train[:m],y_train_predict))\n",
        "    val_errors.append(mean_squared_error(y_val,y_val_predict))\n",
        "  plt.plot(np.sqrt(train_errors),\"r-+\",linewidth=2,label=\"훈련 세트\")\n",
        "  plt.plot(np.sqrt(val_errors),\"b-\",linewidth=3,label=\"검증 세트\")"
      ],
      "metadata": {
        "id": "Qv1-i8_J0boe"
      },
      "execution_count": 22,
      "outputs": []
    },
    {
      "cell_type": "code",
      "source": [
        "lin_reg=LinearRegression()\n",
        "plot_learning_curves(lin_reg,X,y)"
      ],
      "metadata": {
        "id": "UoyhZSTK0brF",
        "colab": {
          "base_uri": "https://localhost:8080/",
          "height": 430
        },
        "outputId": "a0b1595d-b8c1-402b-b32e-20abcf4ace93"
      },
      "execution_count": 23,
      "outputs": [
        {
          "output_type": "display_data",
          "data": {
            "text/plain": [
              "<Figure size 640x480 with 1 Axes>"
            ],
            "image/png": "[encoded data removed]"
          },
          "metadata": {}
        }
      ]
    },
    {
      "cell_type": "code",
      "source": [
        "from sklearn.pipeline import Pipeline\n",
        "\n",
        "polynomial_regression=Pipeline([\n",
        "    (\"poly_features\",PolynomialFeatures(degree=10,include_bias=False)),\n",
        "    (\"lin_reg\",LinearRegression()),\n",
        "])\n",
        "\n",
        "plot_learning_curves(polynomial_regression,X,y)"
      ],
      "metadata": {
        "id": "3eqoQJWj0bte",
        "colab": {
          "base_uri": "https://localhost:8080/",
          "height": 430
        },
        "outputId": "117371a6-984e-4c8a-b46b-5b4dff55729e"
      },
      "execution_count": 24,
      "outputs": [
        {
          "output_type": "display_data",
          "data": {
            "text/plain": [
              "<Figure size 640x480 with 1 Axes>"
            ],
            "image/png": "[encoded data removed]"
          },
          "metadata": {}
        }
      ]
    },
    {
      "cell_type": "markdown",
      "source": [
        "- 훈련 데이터의 오차가 선형 회귀 모델보다 훨씬 낮다\n",
        "- 두 곡선 사이에 공간이 있다. 훈련 데이터에서의 모델 성능이 검증 데이터에서보다 훨씬 낫다(과대적합 모델의 특징)\n",
        "\n",
        "- 과대 적합 모델을 개선하는 방법은 검증 오차가 훈련 오차에 근접할 때까지 많은 훈련 데이터를 추가하는 것!\n",
        "- 편향/분산 트레이드오프\n",
        "  - 편향이 큰 모델은 훈련데이터에 과소적합되기 쉽다\n",
        "  - 모델의 복잡도가 커지면 분산이 늘어나고 편향이 줄어든다\n",
        "\n",
        "  "
      ],
      "metadata": {
        "id": "v1Hqpk8TnRMR"
      }
    },
    {
      "cell_type": "markdown",
      "source": [
        "## 4.5 규제가 있는 선형 모델\n",
        "\n",
        "- 과대적합을 감소시키는 방법은 모델을 규제하는 것\n",
        "- 자유도를 줄이면 데이터에 과대적합되기 어려워진다\n",
        "=> 다항식의 차수 감소시키기\n",
        "\n",
        "\n",
        "## 4.5.1 릿지 회귀\n",
        "- 알파=0 : 선형 회귀와 같아진다\n",
        "- 알파가 매우 크면 : 모든 가중치는 거의 0에 가까워지고 결국 데이터의 평균을 지나는 수평선이 된다\n",
        "모델의 분산은 줄지만 편향이 커진다"
      ],
      "metadata": {
        "id": "OpQkVvLFnwK4"
      }
    },
    {
      "cell_type": "code",
      "source": [
        "from sklearn.linear_model import Ridge\n",
        "ridge_reg=Ridge(alpha=1,solver='cholesky')\n",
        "ridge_reg.fit(X,y)\n",
        "ridge_reg.predict([[1.5]])\n"
      ],
      "metadata": {
        "colab": {
          "base_uri": "https://localhost:8080/"
        },
        "id": "1UsDCNV4ngYd",
        "outputId": "6e915694-0ae2-4fab-d1e8-fe64fd48432c"
      },
      "execution_count": 25,
      "outputs": [
        {
          "output_type": "execute_result",
          "data": {
            "text/plain": [
              "array([[5.26460446]])"
            ]
          },
          "metadata": {},
          "execution_count": 25
        }
      ]
    },
    {
      "cell_type": "code",
      "source": [
        "sgd_reg = SGDRegressor(penalty=\"l2\")\n",
        "sgd_reg.fit(X, y.ravel())\n",
        "sgd_reg.predict([[1.5]])"
      ],
      "metadata": {
        "colab": {
          "base_uri": "https://localhost:8080/"
        },
        "id": "Zie_7lGQngbm",
        "outputId": "393ef262-c62d-421d-89e1-af1644526826"
      },
      "execution_count": 28,
      "outputs": [
        {
          "output_type": "execute_result",
          "data": {
            "text/plain": [
              "array([5.22740192])"
            ]
          },
          "metadata": {},
          "execution_count": 28
        }
      ]
    },
    {
      "cell_type": "markdown",
      "source": [
        "## 4.5.2 라쏘 회귀\n",
        "\n",
        "- 비용함수에 규제항을 더하지만 l2 노름의 제곱 /2 대신 가중치 벡터의 l1 노름을 사용\n",
        "- 덜 중요한 특성의 가중치를 제거하려고 한다\n",
        "- 자동으로 특성 선택을 하고 희소 모델을 만든다\n",
        "\n",
        "<라쏘와 다른점>\n",
        "1. 파라미터가 전역최적점에 가까워질수록 그레이디언트가 작아진다\n",
        "2. 알파를 증가시킬수록 최적의 파라미터가 원점에 더 가까워진다 (완전히 0이 되지는 않는다)\n",
        "\n",
        "\n",
        "- 라쏘의 비용함수는 세타=0 에서는 미분 불가능\n",
        "  - 서브그레이디언트 벡터를 사용하면 경사하강법 적용 가능"
      ],
      "metadata": {
        "id": "lDiru9phqWXI"
      }
    },
    {
      "cell_type": "code",
      "source": [
        "from sklearn.linear_model import Lasso\n",
        "lasso_reg=Lasso(alpha=0.1)\n",
        "lasso_reg.fit(X,y)\n",
        "lasso_reg.predict([[1.5]])\n"
      ],
      "metadata": {
        "colab": {
          "base_uri": "https://localhost:8080/"
        },
        "id": "dUwngkHengd5",
        "outputId": "e2a0b7e4-d3c2-4e1c-92ea-9fe8ed34aaa0"
      },
      "execution_count": 31,
      "outputs": [
        {
          "output_type": "execute_result",
          "data": {
            "text/plain": [
              "array([5.2271031])"
            ]
          },
          "metadata": {},
          "execution_count": 31
        }
      ]
    },
    {
      "cell_type": "markdown",
      "source": [
        "## 4.5.3 엘라스틱넷\n",
        "\n",
        "- 릿지 회귀 + 라쏘 회귀 절충\n",
        "- 규제항은 릿지와 회귀의 규제항을 더해서 사용, 혼합 정도는 혼합비율 r을 사용해 조절\n",
        "  - r=0 : 릿지회귀\n",
        "  - r=1 : 라쏘회귀\n",
        "\n",
        "\n",
        "- 릿지가 기보이 되지만 특성이 몇개뿐이라고 의심되면 라쏘나 엘라스틱넷이 낫다\n",
        "- 특성 수가 훈련 샘플 수보다 많거나 특성 몇개가 강하게 연관되어 있으면 엘라스틱넷 선호"
      ],
      "metadata": {
        "id": "ACiWKFcAriGB"
      }
    },
    {
      "cell_type": "code",
      "source": [
        "from sklearn.linear_model import ElasticNet\n",
        "elastic_net=ElasticNet(alpha=0.1,l1_ratio=0.5)\n",
        "elastic_net.fit(X,y)\n",
        "elastic_net.predict([[1.5]])"
      ],
      "metadata": {
        "colab": {
          "base_uri": "https://localhost:8080/"
        },
        "id": "C6JotE2pngf_",
        "outputId": "bb7cfc4e-2c66-434b-db36-0e609d1ebd2b"
      },
      "execution_count": 32,
      "outputs": [
        {
          "output_type": "execute_result",
          "data": {
            "text/plain": [
              "array([5.22658556])"
            ]
          },
          "metadata": {},
          "execution_count": 32
        }
      ]
    },
    {
      "cell_type": "markdown",
      "source": [
        "## 4.5.4 조기종료"
      ],
      "metadata": {
        "id": "J1WqTEbBsMuq"
      }
    },
    {
      "cell_type": "code",
      "source": [
        "from sklearn.base import clone\n",
        "from sklearn.preprocessing import StandardScaler\n",
        "X_train, X_val, y_train, y_val=train_test_split(X, y, test_size=0.2)\n",
        "\n",
        "# 데이터 준비\n",
        "poly_scaler = Pipeline([\n",
        "    (\"poly_features\", PolynomialFeatures(degree=90, include_bias = False)),\n",
        "    (\"std_scaler\", StandardScaler())\n",
        "])\n",
        "X_train_poly_scaled = poly_scaler.fit_transform(X_train)\n",
        "X_val_poly_scaled = poly_scaler.transform(X_val)\n",
        "\n",
        "sgd_reg = SGDRegressor(max_iter=1, tol=None, warm_start=True,\n",
        "                       penalty=None, learning_rate=\"constant\", eta0=0.0005)\n",
        "\n",
        "minimum_val_error = float(\"inf\")\n",
        "best_epoch = None\n",
        "best_model = None\n",
        "for epoch in range(1000):\n",
        "  sgd_reg.fit(X_train_poly_scaled, y_train.ravel())   # 훈련을 이어서 진행합니다\n",
        "  y_val_predict = sgd_reg.predict(X_val_poly_scaled)\n",
        "  val_error = mean_squared_error(y_val, y_val_predict)\n",
        "  if val_error < minimum_val_error:\n",
        "    minimum_val_error = val_error\n",
        "    best_epoch = epoch\n",
        "    best_model = clone(sgd_reg)"
      ],
      "metadata": {
        "id": "jHKntMU2tPvl"
      },
      "execution_count": 38,
      "outputs": []
    },
    {
      "cell_type": "markdown",
      "source": [
        "- warm_start=True : fit()메서드가 호출될 때 처음부터 다시 시작하지 않고 이전 모델 파라미터에서 훈련을 이어간다"
      ],
      "metadata": {
        "id": "bymuuL8ctY9p"
      }
    },
    {
      "cell_type": "markdown",
      "source": [
        "## 4.6 로지스틱 회귀\n",
        "\n",
        "- 샘플이 특정 클래스에 속할 확률 추정 (양성 클래스, 음성 클래스) : 이진분류기\n",
        "\n",
        "## 4.6.1 확률 추정\n",
        "\n",
        "- 결괏값의 로지스틱 출력\n",
        "- 로지스틱 : 0과 1 사이의 값을 출력하는 시그모이드 함수\n",
        "- 로짓\n",
        "- 로그 오즈\n",
        "\n",
        "## 4.6.2 훈련과 비용함수\n",
        "\n",
        "- 훈련의 목적 : 양성샘플(y=1)에 대해서는 높은 확률을 추정하고 음성 샘플에 대해서는 낮은 확률을 추정하는 모델의 파라미터 세타 찾기\n",
        "- 로그 손실 : 전체 훈련 세트에 대한 비용함수는 모든 훈련 샘플의 비용을 평균\n",
        "  - 볼록함수이므로 경사하강법이 전역 최솟값을 찾는 것 보장\n",
        "\n",
        "\n",
        "## 4.6.3 결정 경계"
      ],
      "metadata": {
        "id": "ogFe2ynPtViy"
      }
    },
    {
      "cell_type": "code",
      "source": [
        "from sklearn import datasets\n",
        "iris=datasets.load_iris()\n",
        "list(iris.keys())"
      ],
      "metadata": {
        "colab": {
          "base_uri": "https://localhost:8080/"
        },
        "id": "iFZqevYjngnS",
        "outputId": "cf6b3fc2-7efb-4ad8-e80b-901504d40f7b"
      },
      "execution_count": 39,
      "outputs": [
        {
          "output_type": "execute_result",
          "data": {
            "text/plain": [
              "['data',\n",
              " 'target',\n",
              " 'frame',\n",
              " 'target_names',\n",
              " 'DESCR',\n",
              " 'feature_names',\n",
              " 'filename',\n",
              " 'data_module']"
            ]
          },
          "metadata": {},
          "execution_count": 39
        }
      ]
    },
    {
      "cell_type": "code",
      "source": [
        "X=iris[\"data\"][:,3:] # 꽃잎의 너비\n",
        "y=(iris[\"target\"]==2).astype(int) # 1 Iris-Virginica면 1, 아니면 0"
      ],
      "metadata": {
        "id": "JP9VThf4ngse"
      },
      "execution_count": 40,
      "outputs": []
    },
    {
      "cell_type": "code",
      "source": [
        "from sklearn.linear_model import LogisticRegression\n",
        "\n",
        "log_reg=LogisticRegression()\n",
        "log_reg.fit(X,y)"
      ],
      "metadata": {
        "colab": {
          "base_uri": "https://localhost:8080/",
          "height": 74
        },
        "id": "0v8UUICEngyz",
        "outputId": "830a2526-050f-4faa-b2de-73685f038dc8"
      },
      "execution_count": 42,
      "outputs": [
        {
          "output_type": "execute_result",
          "data": {
            "text/plain": [
              "LogisticRegression()"
            ],
            "text/html": [
              "<style>#sk-container-id-2 {color: black;background-color: white;}#sk-container-id-2 pre{padding: 0;}#sk-container-id-2 div.sk-toggleable {background-color: white;}#sk-container-id-2 label.sk-toggleable__label {cursor: pointer;display: block;width: 100%;margin-bottom: 0;padding: 0.3em;box-sizing: border-box;text-align: center;}#sk-container-id-2 label.sk-toggleable__label-arrow:before {content: \"▸\";float: left;margin-right: 0.25em;color: #696969;}#sk-container-id-2 label.sk-toggleable__label-arrow:hover:before {color: black;}#sk-container-id-2 div.sk-estimator:hover label.sk-toggleable__label-arrow:before {color: black;}#sk-container-id-2 div.sk-toggleable__content {max-height: 0;max-width: 0;overflow: hidden;text-align: left;background-color: #f0f8ff;}#sk-container-id-2 div.sk-toggleable__content pre {margin: 0.2em;color: black;border-radius: 0.25em;background-color: #f0f8ff;}#sk-container-id-2 input.sk-toggleable__control:checked~div.sk-toggleable__content {max-height: 200px;max-width: 100%;overflow: auto;}#sk-container-id-2 input.sk-toggleable__control:checked~label.sk-toggleable__label-arrow:before {content: \"▾\";}#sk-container-id-2 div.sk-estimator input.sk-toggleable__control:checked~label.sk-toggleable__label {background-color: #d4ebff;}#sk-container-id-2 div.sk-label input.sk-toggleable__control:checked~label.sk-toggleable__label {background-color: #d4ebff;}#sk-container-id-2 input.sk-hidden--visually {border: 0;clip: rect(1px 1px 1px 1px);clip: rect(1px, 1px, 1px, 1px);height: 1px;margin: -1px;overflow: hidden;padding: 0;position: absolute;width: 1px;}#sk-container-id-2 div.sk-estimator {font-family: monospace;background-color: #f0f8ff;border: 1px dotted black;border-radius: 0.25em;box-sizing: border-box;margin-bottom: 0.5em;}#sk-container-id-2 div.sk-estimator:hover {background-color: #d4ebff;}#sk-container-id-2 div.sk-parallel-item::after {content: \"\";width: 100%;border-bottom: 1px solid gray;flex-grow: 1;}#sk-container-id-2 div.sk-label:hover label.sk-toggleable__label {background-color: #d4ebff;}#sk-container-id-2 div.sk-serial::before {content: \"\";position: absolute;border-left: 1px solid gray;box-sizing: border-box;top: 0;bottom: 0;left: 50%;z-index: 0;}#sk-container-id-2 div.sk-serial {display: flex;flex-direction: column;align-items: center;background-color: white;padding-right: 0.2em;padding-left: 0.2em;position: relative;}#sk-container-id-2 div.sk-item {position: relative;z-index: 1;}#sk-container-id-2 div.sk-parallel {display: flex;align-items: stretch;justify-content: center;background-color: white;position: relative;}#sk-container-id-2 div.sk-item::before, #sk-container-id-2 div.sk-parallel-item::before {content: \"\";position: absolute;border-left: 1px solid gray;box-sizing: border-box;top: 0;bottom: 0;left: 50%;z-index: -1;}#sk-container-id-2 div.sk-parallel-item {display: flex;flex-direction: column;z-index: 1;position: relative;background-color: white;}#sk-container-id-2 div.sk-parallel-item:first-child::after {align-self: flex-end;width: 50%;}#sk-container-id-2 div.sk-parallel-item:last-child::after {align-self: flex-start;width: 50%;}#sk-container-id-2 div.sk-parallel-item:only-child::after {width: 0;}#sk-container-id-2 div.sk-dashed-wrapped {border: 1px dashed gray;margin: 0 0.4em 0.5em 0.4em;box-sizing: border-box;padding-bottom: 0.4em;background-color: white;}#sk-container-id-2 div.sk-label label {font-family: monospace;font-weight: bold;display: inline-block;line-height: 1.2em;}#sk-container-id-2 div.sk-label-container {text-align: center;}#sk-container-id-2 div.sk-container {/* jupyter's `normalize.less` sets `[hidden] { display: none; }` but bootstrap.min.css set `[hidden] { display: none !important; }` so we also need the `!important` here to be able to override the default hidden behavior on the sphinx rendered scikit-learn.org. See: https://github.com/scikit-learn/scikit-learn/issues/21755 */display: inline-block !important;position: relative;}#sk-container-id-2 div.sk-text-repr-fallback {display: none;}</style><div id=\"sk-container-id-2\" class=\"sk-top-container\"><div class=\"sk-text-repr-fallback\"><pre>LogisticRegression()</pre><b>In a Jupyter environment, please rerun this cell to show the HTML representation or trust the notebook. <br />On GitHub, the HTML representation is unable to render, please try loading this page with nbviewer.org.</b></div><div class=\"sk-container\" hidden><div class=\"sk-item\"><div class=\"sk-estimator sk-toggleable\"><input class=\"sk-toggleable__control sk-hidden--visually\" id=\"sk-estimator-id-2\" type=\"checkbox\" checked><label for=\"sk-estimator-id-2\" class=\"sk-toggleable__label sk-toggleable__label-arrow\">LogisticRegression</label><div class=\"sk-toggleable__content\"><pre>LogisticRegression()</pre></div></div></div></div></div>"
            ]
          },
          "metadata": {},
          "execution_count": 42
        }
      ]
    },
    {
      "cell_type": "code",
      "source": [
        "X_new=np.linspace(0,3,1000).reshape(-1,1)\n",
        "y_proba=log_reg.predict_proba(X_new)\n",
        "plt.plot(X_new,y_proba[:,1],\"g-\",label=\"Iris virginica\")\n",
        "plt.plot(X_new,y_proba[:,0],\"b-\",label=\"Not Iris virginica\")"
      ],
      "metadata": {
        "colab": {
          "base_uri": "https://localhost:8080/",
          "height": 448
        },
        "id": "wp9X43zRng19",
        "outputId": "d757980e-206a-4610-c5be-f961cf80d144"
      },
      "execution_count": 43,
      "outputs": [
        {
          "output_type": "execute_result",
          "data": {
            "text/plain": [
              "[<matplotlib.lines.Line2D at 0x7acebce99a50>]"
            ]
          },
          "metadata": {},
          "execution_count": 43
        },
        {
          "output_type": "display_data",
          "data": {
            "text/plain": [
              "<Figure size 640x480 with 1 Axes>"
            ],
            "image/png": "[encoded data removed]"
          },
          "metadata": {}
        }
      ]
    },
    {
      "cell_type": "markdown",
      "source": [
        "- 양쪽의 확률이 똑같이 50%가 되는 1.6cm 근방에서 결정 경계가 만들어진다"
      ],
      "metadata": {
        "id": "guueZUsqvxtM"
      }
    },
    {
      "cell_type": "code",
      "source": [
        "log_reg.predict([[1.7],[1.5]])"
      ],
      "metadata": {
        "colab": {
          "base_uri": "https://localhost:8080/"
        },
        "id": "gTdQEhWjng5F",
        "outputId": "2b47883d-925b-46da-8d59-137207713b31"
      },
      "execution_count": 44,
      "outputs": [
        {
          "output_type": "execute_result",
          "data": {
            "text/plain": [
              "array([1, 0])"
            ]
          },
          "metadata": {},
          "execution_count": 44
        }
      ]
    },
    {
      "cell_type": "markdown",
      "source": [
        "- 사이킷런은 l2 패널티를 기본으로 한다\n",
        "\n",
        "##4.6.4 소프트맥스 회귀\n",
        "\n",
        "- 소프트맥스회귀 / 다항 로지스틱 회귀\n",
        "- 각 클래스의 확률 추정\n",
        "- 훈련 방법 : 크로스 엔트로피 비용함수를 최소화하는 것은 타깃 클래스에 대해 낮은 확률을 예측하는 모델을 억제하는 것, 타깃 클래스에 얼마나 잘 맞는지 측정하는 용도로 종종 사용\n",
        "\n",
        "- 사이킷런의 LogisticRegression은 클래스가 둘 이상일 때 기본적으로 일대다(OvA)전략 사용\n",
        "- multi_class 매개변수를 \"multinomial\" 로 바꾸면 소프트맥스 회귀 사용 가능\n",
        "- 소프트맥스 회귀를 사용하려면 solver매개변수에 \"lbfgs\"같이 알고리즘 지정해야함"
      ],
      "metadata": {
        "id": "8fphRlaRwBxS"
      }
    },
    {
      "cell_type": "code",
      "source": [
        "X = iris[\"data\"][:, (2,3)] # 꽃잎 길이, 꽃잎 너비\n",
        "y = iris[\"target\"]\n",
        "\n",
        "softmax_reg = LogisticRegression(multi_class=\"multinomial\", solver=\"lbfgs\", C=10)\n",
        "softmax_reg.fit(X,y)"
      ],
      "metadata": {
        "id": "kESnDyOM0bv_",
        "colab": {
          "base_uri": "https://localhost:8080/",
          "height": 74
        },
        "outputId": "1a1812b8-a244-43c9-effe-d05d671a2f8a"
      },
      "execution_count": 45,
      "outputs": [
        {
          "output_type": "execute_result",
          "data": {
            "text/plain": [
              "LogisticRegression(C=10, multi_class='multinomial')"
            ],
            "text/html": [
              "<style>#sk-container-id-3 {color: black;background-color: white;}#sk-container-id-3 pre{padding: 0;}#sk-container-id-3 div.sk-toggleable {background-color: white;}#sk-container-id-3 label.sk-toggleable__label {cursor: pointer;display: block;width: 100%;margin-bottom: 0;padding: 0.3em;box-sizing: border-box;text-align: center;}#sk-container-id-3 label.sk-toggleable__label-arrow:before {content: \"▸\";float: left;margin-right: 0.25em;color: #696969;}#sk-container-id-3 label.sk-toggleable__label-arrow:hover:before {color: black;}#sk-container-id-3 div.sk-estimator:hover label.sk-toggleable__label-arrow:before {color: black;}#sk-container-id-3 div.sk-toggleable__content {max-height: 0;max-width: 0;overflow: hidden;text-align: left;background-color: #f0f8ff;}#sk-container-id-3 div.sk-toggleable__content pre {margin: 0.2em;color: black;border-radius: 0.25em;background-color: #f0f8ff;}#sk-container-id-3 input.sk-toggleable__control:checked~div.sk-toggleable__content {max-height: 200px;max-width: 100%;overflow: auto;}#sk-container-id-3 input.sk-toggleable__control:checked~label.sk-toggleable__label-arrow:before {content: \"▾\";}#sk-container-id-3 div.sk-estimator input.sk-toggleable__control:checked~label.sk-toggleable__label {background-color: #d4ebff;}#sk-container-id-3 div.sk-label input.sk-toggleable__control:checked~label.sk-toggleable__label {background-color: #d4ebff;}#sk-container-id-3 input.sk-hidden--visually {border: 0;clip: rect(1px 1px 1px 1px);clip: rect(1px, 1px, 1px, 1px);height: 1px;margin: -1px;overflow: hidden;padding: 0;position: absolute;width: 1px;}#sk-container-id-3 div.sk-estimator {font-family: monospace;background-color: #f0f8ff;border: 1px dotted black;border-radius: 0.25em;box-sizing: border-box;margin-bottom: 0.5em;}#sk-container-id-3 div.sk-estimator:hover {background-color: #d4ebff;}#sk-container-id-3 div.sk-parallel-item::after {content: \"\";width: 100%;border-bottom: 1px solid gray;flex-grow: 1;}#sk-container-id-3 div.sk-label:hover label.sk-toggleable__label {background-color: #d4ebff;}#sk-container-id-3 div.sk-serial::before {content: \"\";position: absolute;border-left: 1px solid gray;box-sizing: border-box;top: 0;bottom: 0;left: 50%;z-index: 0;}#sk-container-id-3 div.sk-serial {display: flex;flex-direction: column;align-items: center;background-color: white;padding-right: 0.2em;padding-left: 0.2em;position: relative;}#sk-container-id-3 div.sk-item {position: relative;z-index: 1;}#sk-container-id-3 div.sk-parallel {display: flex;align-items: stretch;justify-content: center;background-color: white;position: relative;}#sk-container-id-3 div.sk-item::before, #sk-container-id-3 div.sk-parallel-item::before {content: \"\";position: absolute;border-left: 1px solid gray;box-sizing: border-box;top: 0;bottom: 0;left: 50%;z-index: -1;}#sk-container-id-3 div.sk-parallel-item {display: flex;flex-direction: column;z-index: 1;position: relative;background-color: white;}#sk-container-id-3 div.sk-parallel-item:first-child::after {align-self: flex-end;width: 50%;}#sk-container-id-3 div.sk-parallel-item:last-child::after {align-self: flex-start;width: 50%;}#sk-container-id-3 div.sk-parallel-item:only-child::after {width: 0;}#sk-container-id-3 div.sk-dashed-wrapped {border: 1px dashed gray;margin: 0 0.4em 0.5em 0.4em;box-sizing: border-box;padding-bottom: 0.4em;background-color: white;}#sk-container-id-3 div.sk-label label {font-family: monospace;font-weight: bold;display: inline-block;line-height: 1.2em;}#sk-container-id-3 div.sk-label-container {text-align: center;}#sk-container-id-3 div.sk-container {/* jupyter's `normalize.less` sets `[hidden] { display: none; }` but bootstrap.min.css set `[hidden] { display: none !important; }` so we also need the `!important` here to be able to override the default hidden behavior on the sphinx rendered scikit-learn.org. See: https://github.com/scikit-learn/scikit-learn/issues/21755 */display: inline-block !important;position: relative;}#sk-container-id-3 div.sk-text-repr-fallback {display: none;}</style><div id=\"sk-container-id-3\" class=\"sk-top-container\"><div class=\"sk-text-repr-fallback\"><pre>LogisticRegression(C=10, multi_class=&#x27;multinomial&#x27;)</pre><b>In a Jupyter environment, please rerun this cell to show the HTML representation or trust the notebook. <br />On GitHub, the HTML representation is unable to render, please try loading this page with nbviewer.org.</b></div><div class=\"sk-container\" hidden><div class=\"sk-item\"><div class=\"sk-estimator sk-toggleable\"><input class=\"sk-toggleable__control sk-hidden--visually\" id=\"sk-estimator-id-3\" type=\"checkbox\" checked><label for=\"sk-estimator-id-3\" class=\"sk-toggleable__label sk-toggleable__label-arrow\">LogisticRegression</label><div class=\"sk-toggleable__content\"><pre>LogisticRegression(C=10, multi_class=&#x27;multinomial&#x27;)</pre></div></div></div></div></div>"
            ]
          },
          "metadata": {},
          "execution_count": 45
        }
      ]
    },
    {
      "cell_type": "code",
      "source": [
        "softmax_reg.predict([[5,2]])"
      ],
      "metadata": {
        "id": "gAxO-kae0byx",
        "colab": {
          "base_uri": "https://localhost:8080/"
        },
        "outputId": "a139335d-adde-40ec-a66c-7136b35a3e72"
      },
      "execution_count": 46,
      "outputs": [
        {
          "output_type": "execute_result",
          "data": {
            "text/plain": [
              "array([2])"
            ]
          },
          "metadata": {},
          "execution_count": 46
        }
      ]
    },
    {
      "cell_type": "code",
      "source": [
        "softmax_reg.predict_proba([[5,2]])"
      ],
      "metadata": {
        "colab": {
          "base_uri": "https://localhost:8080/"
        },
        "id": "8fGJvdL9xIHB",
        "outputId": "2dc31e3e-6001-4799-cc7d-95fed19bee30"
      },
      "execution_count": 48,
      "outputs": [
        {
          "output_type": "execute_result",
          "data": {
            "text/plain": [
              "array([[6.38014896e-07, 5.74929995e-02, 9.42506362e-01]])"
            ]
          },
          "metadata": {},
          "execution_count": 48
        }
      ]
    }
  ]
}