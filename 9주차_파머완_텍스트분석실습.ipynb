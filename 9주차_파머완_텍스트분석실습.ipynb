{
  "nbformat": 4,
  "nbformat_minor": 0,
  "metadata": {
    "colab": {
      "provenance": [],
      "authorship_tag": "ABX9TyOPyQKRJyHoxwBmCie9J/gv",
      "include_colab_link": true
    },
    "kernelspec": {
      "name": "python3",
      "display_name": "Python 3"
    },
    "language_info": {
      "name": "python"
    }
  },
  "cells": [
    {
      "cell_type": "markdown",
      "metadata": {
        "id": "view-in-github",
        "colab_type": "text"
      },
      "source": [
        "<a href=\"https://colab.research.google.com/github/aaoiii/2024-ESAA-OB/blob/main/9%EC%A3%BC%EC%B0%A8_%ED%8C%8C%EB%A8%B8%EC%99%84_%ED%85%8D%EC%8A%A4%ED%8A%B8%EB%B6%84%EC%84%9D%EC%8B%A4%EC%8A%B5.ipynb\" target=\"_parent\"><img src=\"https://colab.research.google.com/assets/colab-badge.svg\" alt=\"Open In Colab\"/></a>"
      ]
    },
    {
      "cell_type": "markdown",
      "source": [
        "# 10 텍스트 분석 실습 - 캐글 Mercari Price Suggestion Challenge\n",
        "\n",
        "- price: 제품 가격, 예측을 위한 타깃 속성\n",
        "- shipping : 배송비 무료 여부 (1이면 무료)\n",
        "- item_description : 제품 설명\n",
        "\n",
        "## 데이터 전처리"
      ],
      "metadata": {
        "id": "pnDv79FZexA9"
      }
    },
    {
      "cell_type": "code",
      "source": [
        "from sklearn.linear_model import Ridge, LogisticRegression\n",
        "from sklearn.model_selection import train_test_split, cross_val_score\n",
        "from sklearn.feature_extraction.text import CountVectorizer, TfidfVectorizer\n",
        "import pandas as pd"
      ],
      "metadata": {
        "id": "PTeOa3fcjRuH"
      },
      "execution_count": 16,
      "outputs": []
    },
    {
      "cell_type": "code",
      "source": [
        "mercari_df=pd.read_csv('train.tsv',sep='\\t')\n",
        "print(mercari_df.shape)\n",
        "mercari_df.head(3)"
      ],
      "metadata": {
        "colab": {
          "base_uri": "https://localhost:8080/",
          "height": 162
        },
        "id": "M9UnBemPjYED",
        "outputId": "8bda6ab2-55f6-43fb-b9f4-0b63ab78f646"
      },
      "execution_count": 17,
      "outputs": [
        {
          "output_type": "stream",
          "name": "stdout",
          "text": [
            "(139004, 8)\n"
          ]
        },
        {
          "output_type": "execute_result",
          "data": {
            "text/plain": [
              "   train_id                                 name  item_condition_id  \\\n",
              "0         0  MLB Cincinnati Reds T Shirt Size XL                3.0   \n",
              "1         1     Razer BlackWidow Chroma Keyboard                3.0   \n",
              "2         2                       AVA-VIV Blouse                1.0   \n",
              "\n",
              "                                       category_name brand_name  price  \\\n",
              "0                                  Men/Tops/T-shirts        NaN   10.0   \n",
              "1  Electronics/Computers & Tablets/Components & P...      Razer   52.0   \n",
              "2                        Women/Tops & Blouses/Blouse     Target   10.0   \n",
              "\n",
              "   shipping                                   item_description  \n",
              "0       1.0                                 No description yet  \n",
              "1       0.0  This keyboard is in great condition and works ...  \n",
              "2       1.0  Adorable top with a hint of lace and a key hol...  "
            ],
            "text/html": [
              "\n",
              "  <div id=\"df-eff6ea40-8aa6-432a-868b-b06a000c010b\" class=\"colab-df-container\">\n",
              "    <div>\n",
              "<style scoped>\n",
              "    .dataframe tbody tr th:only-of-type {\n",
              "        vertical-align: middle;\n",
              "    }\n",
              "\n",
              "    .dataframe tbody tr th {\n",
              "        vertical-align: top;\n",
              "    }\n",
              "\n",
              "    .dataframe thead th {\n",
              "        text-align: right;\n",
              "    }\n",
              "</style>\n",
              "<table border=\"1\" class=\"dataframe\">\n",
              "  <thead>\n",
              "    <tr style=\"text-align: right;\">\n",
              "      <th></th>\n",
              "      <th>train_id</th>\n",
              "      <th>name</th>\n",
              "      <th>item_condition_id</th>\n",
              "      <th>category_name</th>\n",
              "      <th>brand_name</th>\n",
              "      <th>price</th>\n",
              "      <th>shipping</th>\n",
              "      <th>item_description</th>\n",
              "    </tr>\n",
              "  </thead>\n",
              "  <tbody>\n",
              "    <tr>\n",
              "      <th>0</th>\n",
              "      <td>0</td>\n",
              "      <td>MLB Cincinnati Reds T Shirt Size XL</td>\n",
              "      <td>3.0</td>\n",
              "      <td>Men/Tops/T-shirts</td>\n",
              "      <td>NaN</td>\n",
              "      <td>10.0</td>\n",
              "      <td>1.0</td>\n",
              "      <td>No description yet</td>\n",
              "    </tr>\n",
              "    <tr>\n",
              "      <th>1</th>\n",
              "      <td>1</td>\n",
              "      <td>Razer BlackWidow Chroma Keyboard</td>\n",
              "      <td>3.0</td>\n",
              "      <td>Electronics/Computers &amp; Tablets/Components &amp; P...</td>\n",
              "      <td>Razer</td>\n",
              "      <td>52.0</td>\n",
              "      <td>0.0</td>\n",
              "      <td>This keyboard is in great condition and works ...</td>\n",
              "    </tr>\n",
              "    <tr>\n",
              "      <th>2</th>\n",
              "      <td>2</td>\n",
              "      <td>AVA-VIV Blouse</td>\n",
              "      <td>1.0</td>\n",
              "      <td>Women/Tops &amp; Blouses/Blouse</td>\n",
              "      <td>Target</td>\n",
              "      <td>10.0</td>\n",
              "      <td>1.0</td>\n",
              "      <td>Adorable top with a hint of lace and a key hol...</td>\n",
              "    </tr>\n",
              "  </tbody>\n",
              "</table>\n",
              "</div>\n",
              "    <div class=\"colab-df-buttons\">\n",
              "\n",
              "  <div class=\"colab-df-container\">\n",
              "    <button class=\"colab-df-convert\" onclick=\"convertToInteractive('df-eff6ea40-8aa6-432a-868b-b06a000c010b')\"\n",
              "            title=\"Convert this dataframe to an interactive table.\"\n",
              "            style=\"display:none;\">\n",
              "\n",
              "  <svg xmlns=\"http://www.w3.org/2000/svg\" height=\"24px\" viewBox=\"0 -960 960 960\">\n",
              "    <path d=\"M120-120v-720h720v720H120Zm60-500h600v-160H180v160Zm220 220h160v-160H400v160Zm0 220h160v-160H400v160ZM180-400h160v-160H180v160Zm440 0h160v-160H620v160ZM180-180h160v-160H180v160Zm440 0h160v-160H620v160Z\"/>\n",
              "  </svg>\n",
              "    </button>\n",
              "\n",
              "  <style>\n",
              "    .colab-df-container {\n",
              "      display:flex;\n",
              "      gap: 12px;\n",
              "    }\n",
              "\n",
              "    .colab-df-convert {\n",
              "      background-color: #E8F0FE;\n",
              "      border: none;\n",
              "      border-radius: 50%;\n",
              "      cursor: pointer;\n",
              "      display: none;\n",
              "      fill: #1967D2;\n",
              "      height: 32px;\n",
              "      padding: 0 0 0 0;\n",
              "      width: 32px;\n",
              "    }\n",
              "\n",
              "    .colab-df-convert:hover {\n",
              "      background-color: #E2EBFA;\n",
              "      box-shadow: 0px 1px 2px rgba(60, 64, 67, 0.3), 0px 1px 3px 1px rgba(60, 64, 67, 0.15);\n",
              "      fill: #174EA6;\n",
              "    }\n",
              "\n",
              "    .colab-df-buttons div {\n",
              "      margin-bottom: 4px;\n",
              "    }\n",
              "\n",
              "    [theme=dark] .colab-df-convert {\n",
              "      background-color: #3B4455;\n",
              "      fill: #D2E3FC;\n",
              "    }\n",
              "\n",
              "    [theme=dark] .colab-df-convert:hover {\n",
              "      background-color: #434B5C;\n",
              "      box-shadow: 0px 1px 3px 1px rgba(0, 0, 0, 0.15);\n",
              "      filter: drop-shadow(0px 1px 2px rgba(0, 0, 0, 0.3));\n",
              "      fill: #FFFFFF;\n",
              "    }\n",
              "  </style>\n",
              "\n",
              "    <script>\n",
              "      const buttonEl =\n",
              "        document.querySelector('#df-eff6ea40-8aa6-432a-868b-b06a000c010b button.colab-df-convert');\n",
              "      buttonEl.style.display =\n",
              "        google.colab.kernel.accessAllowed ? 'block' : 'none';\n",
              "\n",
              "      async function convertToInteractive(key) {\n",
              "        const element = document.querySelector('#df-eff6ea40-8aa6-432a-868b-b06a000c010b');\n",
              "        const dataTable =\n",
              "          await google.colab.kernel.invokeFunction('convertToInteractive',\n",
              "                                                    [key], {});\n",
              "        if (!dataTable) return;\n",
              "\n",
              "        const docLinkHtml = 'Like what you see? Visit the ' +\n",
              "          '<a target=\"_blank\" href=https://colab.research.google.com/notebooks/data_table.ipynb>data table notebook</a>'\n",
              "          + ' to learn more about interactive tables.';\n",
              "        element.innerHTML = '';\n",
              "        dataTable['output_type'] = 'display_data';\n",
              "        await google.colab.output.renderOutput(dataTable, element);\n",
              "        const docLink = document.createElement('div');\n",
              "        docLink.innerHTML = docLinkHtml;\n",
              "        element.appendChild(docLink);\n",
              "      }\n",
              "    </script>\n",
              "  </div>\n",
              "\n",
              "\n",
              "<div id=\"df-aeb0f898-c5d8-4ae1-9302-3ca7eb70cd3c\">\n",
              "  <button class=\"colab-df-quickchart\" onclick=\"quickchart('df-aeb0f898-c5d8-4ae1-9302-3ca7eb70cd3c')\"\n",
              "            title=\"Suggest charts\"\n",
              "            style=\"display:none;\">\n",
              "\n",
              "<svg xmlns=\"http://www.w3.org/2000/svg\" height=\"24px\"viewBox=\"0 0 24 24\"\n",
              "     width=\"24px\">\n",
              "    <g>\n",
              "        <path d=\"M19 3H5c-1.1 0-2 .9-2 2v14c0 1.1.9 2 2 2h14c1.1 0 2-.9 2-2V5c0-1.1-.9-2-2-2zM9 17H7v-7h2v7zm4 0h-2V7h2v10zm4 0h-2v-4h2v4z\"/>\n",
              "    </g>\n",
              "</svg>\n",
              "  </button>\n",
              "\n",
              "<style>\n",
              "  .colab-df-quickchart {\n",
              "      --bg-color: #E8F0FE;\n",
              "      --fill-color: #1967D2;\n",
              "      --hover-bg-color: #E2EBFA;\n",
              "      --hover-fill-color: #174EA6;\n",
              "      --disabled-fill-color: #AAA;\n",
              "      --disabled-bg-color: #DDD;\n",
              "  }\n",
              "\n",
              "  [theme=dark] .colab-df-quickchart {\n",
              "      --bg-color: #3B4455;\n",
              "      --fill-color: #D2E3FC;\n",
              "      --hover-bg-color: #434B5C;\n",
              "      --hover-fill-color: #FFFFFF;\n",
              "      --disabled-bg-color: #3B4455;\n",
              "      --disabled-fill-color: #666;\n",
              "  }\n",
              "\n",
              "  .colab-df-quickchart {\n",
              "    background-color: var(--bg-color);\n",
              "    border: none;\n",
              "    border-radius: 50%;\n",
              "    cursor: pointer;\n",
              "    display: none;\n",
              "    fill: var(--fill-color);\n",
              "    height: 32px;\n",
              "    padding: 0;\n",
              "    width: 32px;\n",
              "  }\n",
              "\n",
              "  .colab-df-quickchart:hover {\n",
              "    background-color: var(--hover-bg-color);\n",
              "    box-shadow: 0 1px 2px rgba(60, 64, 67, 0.3), 0 1px 3px 1px rgba(60, 64, 67, 0.15);\n",
              "    fill: var(--button-hover-fill-color);\n",
              "  }\n",
              "\n",
              "  .colab-df-quickchart-complete:disabled,\n",
              "  .colab-df-quickchart-complete:disabled:hover {\n",
              "    background-color: var(--disabled-bg-color);\n",
              "    fill: var(--disabled-fill-color);\n",
              "    box-shadow: none;\n",
              "  }\n",
              "\n",
              "  .colab-df-spinner {\n",
              "    border: 2px solid var(--fill-color);\n",
              "    border-color: transparent;\n",
              "    border-bottom-color: var(--fill-color);\n",
              "    animation:\n",
              "      spin 1s steps(1) infinite;\n",
              "  }\n",
              "\n",
              "  @keyframes spin {\n",
              "    0% {\n",
              "      border-color: transparent;\n",
              "      border-bottom-color: var(--fill-color);\n",
              "      border-left-color: var(--fill-color);\n",
              "    }\n",
              "    20% {\n",
              "      border-color: transparent;\n",
              "      border-left-color: var(--fill-color);\n",
              "      border-top-color: var(--fill-color);\n",
              "    }\n",
              "    30% {\n",
              "      border-color: transparent;\n",
              "      border-left-color: var(--fill-color);\n",
              "      border-top-color: var(--fill-color);\n",
              "      border-right-color: var(--fill-color);\n",
              "    }\n",
              "    40% {\n",
              "      border-color: transparent;\n",
              "      border-right-color: var(--fill-color);\n",
              "      border-top-color: var(--fill-color);\n",
              "    }\n",
              "    60% {\n",
              "      border-color: transparent;\n",
              "      border-right-color: var(--fill-color);\n",
              "    }\n",
              "    80% {\n",
              "      border-color: transparent;\n",
              "      border-right-color: var(--fill-color);\n",
              "      border-bottom-color: var(--fill-color);\n",
              "    }\n",
              "    90% {\n",
              "      border-color: transparent;\n",
              "      border-bottom-color: var(--fill-color);\n",
              "    }\n",
              "  }\n",
              "</style>\n",
              "\n",
              "  <script>\n",
              "    async function quickchart(key) {\n",
              "      const quickchartButtonEl =\n",
              "        document.querySelector('#' + key + ' button');\n",
              "      quickchartButtonEl.disabled = true;  // To prevent multiple clicks.\n",
              "      quickchartButtonEl.classList.add('colab-df-spinner');\n",
              "      try {\n",
              "        const charts = await google.colab.kernel.invokeFunction(\n",
              "            'suggestCharts', [key], {});\n",
              "      } catch (error) {\n",
              "        console.error('Error during call to suggestCharts:', error);\n",
              "      }\n",
              "      quickchartButtonEl.classList.remove('colab-df-spinner');\n",
              "      quickchartButtonEl.classList.add('colab-df-quickchart-complete');\n",
              "    }\n",
              "    (() => {\n",
              "      let quickchartButtonEl =\n",
              "        document.querySelector('#df-aeb0f898-c5d8-4ae1-9302-3ca7eb70cd3c button');\n",
              "      quickchartButtonEl.style.display =\n",
              "        google.colab.kernel.accessAllowed ? 'block' : 'none';\n",
              "    })();\n",
              "  </script>\n",
              "</div>\n",
              "    </div>\n",
              "  </div>\n"
            ],
            "application/vnd.google.colaboratory.intrinsic+json": {
              "type": "dataframe",
              "variable_name": "mercari_df"
            }
          },
          "metadata": {},
          "execution_count": 17
        }
      ]
    },
    {
      "cell_type": "code",
      "source": [
        "print(mercari_df.info())"
      ],
      "metadata": {
        "colab": {
          "base_uri": "https://localhost:8080/"
        },
        "id": "CvTvNlv4ihzB",
        "outputId": "821b89ac-6a17-4356-c072-f59eae18bfec"
      },
      "execution_count": 18,
      "outputs": [
        {
          "output_type": "stream",
          "name": "stdout",
          "text": [
            "<class 'pandas.core.frame.DataFrame'>\n",
            "RangeIndex: 139004 entries, 0 to 139003\n",
            "Data columns (total 8 columns):\n",
            " #   Column             Non-Null Count   Dtype  \n",
            "---  ------             --------------   -----  \n",
            " 0   train_id           139004 non-null  int64  \n",
            " 1   name               139004 non-null  object \n",
            " 2   item_condition_id  139003 non-null  float64\n",
            " 3   category_name      138436 non-null  object \n",
            " 4   brand_name         79471 non-null   object \n",
            " 5   price              139003 non-null  float64\n",
            " 6   shipping           139003 non-null  float64\n",
            " 7   item_description   139003 non-null  object \n",
            "dtypes: float64(3), int64(1), object(4)\n",
            "memory usage: 8.5+ MB\n",
            "None\n"
          ]
        }
      ]
    },
    {
      "cell_type": "code",
      "source": [
        "import matplotlib.pyplot as plt\n",
        "import seaborn as sns\n",
        "%matplotlib inline\n",
        "\n",
        "y_train_df=mercari_df['price']\n",
        "plt.figure(figsize=(6,4))\n",
        "sns.distplot(y_train_df,kde=False)"
      ],
      "metadata": {
        "colab": {
          "base_uri": "https://localhost:8080/",
          "height": 607
        },
        "id": "m2aBj5evih4B",
        "outputId": "38a8a109-0068-48d0-e166-bdc4534fe1e7"
      },
      "execution_count": 19,
      "outputs": [
        {
          "output_type": "stream",
          "name": "stderr",
          "text": [
            "<ipython-input-19-858dfb81a9ec>:7: UserWarning: \n",
            "\n",
            "`distplot` is a deprecated function and will be removed in seaborn v0.14.0.\n",
            "\n",
            "Please adapt your code to use either `displot` (a figure-level function with\n",
            "similar flexibility) or `histplot` (an axes-level function for histograms).\n",
            "\n",
            "For a guide to updating your code to use the new functions, please see\n",
            "https://gist.github.com/mwaskom/de44147ed2974457ad6372750bbe5751\n",
            "\n",
            "  sns.distplot(y_train_df,kde=False)\n"
          ]
        },
        {
          "output_type": "execute_result",
          "data": {
            "text/plain": [
              "<Axes: xlabel='price'>"
            ]
          },
          "metadata": {},
          "execution_count": 19
        },
        {
          "output_type": "display_data",
          "data": {
            "text/plain": [
              "<Figure size 600x400 with 1 Axes>"
            ],
            "image/png": "[encoded data removed]"
          },
          "metadata": {}
        }
      ]
    },
    {
      "cell_type": "code",
      "source": [
        "import numpy as np\n",
        "y_train_df=np.log1p(y_train_df)\n",
        "sns.distplot(y_train_df,kde=False)"
      ],
      "metadata": {
        "colab": {
          "base_uri": "https://localhost:8080/",
          "height": 668
        },
        "id": "wc3qplvlih6t",
        "outputId": "b7e6b541-0c12-4db1-a157-135f5df091e4"
      },
      "execution_count": 20,
      "outputs": [
        {
          "output_type": "stream",
          "name": "stderr",
          "text": [
            "<ipython-input-20-faf24d23e56a>:3: UserWarning: \n",
            "\n",
            "`distplot` is a deprecated function and will be removed in seaborn v0.14.0.\n",
            "\n",
            "Please adapt your code to use either `displot` (a figure-level function with\n",
            "similar flexibility) or `histplot` (an axes-level function for histograms).\n",
            "\n",
            "For a guide to updating your code to use the new functions, please see\n",
            "https://gist.github.com/mwaskom/de44147ed2974457ad6372750bbe5751\n",
            "\n",
            "  sns.distplot(y_train_df,kde=False)\n"
          ]
        },
        {
          "output_type": "execute_result",
          "data": {
            "text/plain": [
              "<Axes: xlabel='price'>"
            ]
          },
          "metadata": {},
          "execution_count": 20
        },
        {
          "output_type": "display_data",
          "data": {
            "text/plain": [
              "<Figure size 640x480 with 1 Axes>"
            ],
            "image/png": "[encoded data removed]"
          },
          "metadata": {}
        }
      ]
    },
    {
      "cell_type": "code",
      "source": [
        "mercari_df['price']=np.log1p(mercari_df['price'])\n",
        "mercari_df['price'].head(3)"
      ],
      "metadata": {
        "colab": {
          "base_uri": "https://localhost:8080/"
        },
        "id": "U9X6tcE_ih9O",
        "outputId": "fba249fb-4d11-4746-c3d5-9653aab8a28d"
      },
      "execution_count": 21,
      "outputs": [
        {
          "output_type": "execute_result",
          "data": {
            "text/plain": [
              "0    2.397895\n",
              "1    3.970292\n",
              "2    2.397895\n",
              "Name: price, dtype: float64"
            ]
          },
          "metadata": {},
          "execution_count": 21
        }
      ]
    },
    {
      "cell_type": "code",
      "source": [
        "print('Shipping 값 유형:\\n',mercari_df['shipping'].value_counts())\n",
        "print('item_condition_id값 유형:\\n',mercari_df['item_condition_id'].value_counts())"
      ],
      "metadata": {
        "colab": {
          "base_uri": "https://localhost:8080/"
        },
        "id": "YcIpg8gfih_p",
        "outputId": "6db60328-fe51-45cc-8323-d3f09ed92ce3"
      },
      "execution_count": 22,
      "outputs": [
        {
          "output_type": "stream",
          "name": "stdout",
          "text": [
            "Shipping 값 유형:\n",
            " shipping\n",
            "0.0    76784\n",
            "1.0    62219\n",
            "Name: count, dtype: int64\n",
            "item_condition_id값 유형:\n",
            " item_condition_id\n",
            "1.0    59903\n",
            "3.0    40470\n",
            "2.0    35442\n",
            "4.0     2964\n",
            "5.0      224\n",
            "Name: count, dtype: int64\n"
          ]
        }
      ]
    },
    {
      "cell_type": "code",
      "source": [
        "boolen_cond = mercari_df['item_description'] =='No description yet'\n",
        "mercari_df[boolen_cond][\"item_description\"].count()"
      ],
      "metadata": {
        "colab": {
          "base_uri": "https://localhost:8080/"
        },
        "id": "L0YIrQLLiiBx",
        "outputId": "77b93ce2-9102-40d2-f8b8-3db06c1412be"
      },
      "execution_count": 23,
      "outputs": [
        {
          "output_type": "execute_result",
          "data": {
            "text/plain": [
              "7866"
            ]
          },
          "metadata": {},
          "execution_count": 23
        }
      ]
    },
    {
      "cell_type": "markdown",
      "source": [
        "- 의미 있는 속성값으로는 사용될 수 없으므로 적절한 값으로 변경해야한다"
      ],
      "metadata": {
        "id": "O9F10MDglTOv"
      }
    },
    {
      "cell_type": "markdown",
      "source": [
        "- category_name : '/'로 분리된 카테고리를 하나의 문자열로 나타낸다\n",
        "- 별도의 split_cat()함수를 생성\n",
        "  - category_name이 Null이 아닌 경우에 split을 이용해 대,중,소 (cat_dae, cat_jung, cat_so) 분류를 분리\n",
        "  - Null이면 error를 except catch하여 대,중,소 분류 모두 'Other Null' 부여\n",
        "- 판다스의 apply lambda로 반환되는 데이터 세트가 리스트를 요소로 가지고 있는데, 이를 다시 cat_dae, cat_jung, cat_so의 DataFrame칼럼으로 분리해야하는 것이 고민해야할 점\n",
        "  - zip과 *를 apply lambda 식에 적용하여 칼럼으로 분리"
      ],
      "metadata": {
        "id": "f0i_bElOlbn7"
      }
    },
    {
      "cell_type": "code",
      "source": [
        "# apply lambda에서 호출되는 대,중,소 분할 함수 생성, 대,중,소 값을 리스트로 반환\n",
        "\n",
        "def split_cat(category_name):\n",
        "    try:\n",
        "        return category_name.split('/')\n",
        "    except:\n",
        "        return [\"Other_Null\",\"Other_Null\",\"Other_Null\"]"
      ],
      "metadata": {
        "id": "21Tc4IY1iiEa"
      },
      "execution_count": 24,
      "outputs": []
    },
    {
      "cell_type": "code",
      "source": [
        "# 위의 split_cat()을 apply lambda에서 호출해 대,중,소 칼럼을 mercari_df에 생성\n",
        "mercari_df[\"cat_dae\"], mercari_df[\"cat_jung\"], mercari_df[\"cat_so\"] = \\\n",
        "                                               zip(*mercari_df[\"category_name\"].apply(lambda x: split_cat(x)))"
      ],
      "metadata": {
        "id": "vsHT5p8qiiJU"
      },
      "execution_count": 25,
      "outputs": []
    },
    {
      "cell_type": "code",
      "source": [
        "# 대분류만 값의 유형과 건수를 살펴보고, 중분류 소분류는 값의 유형이 많으므로 분류 개수만 추출\n",
        "print(\"대분류 유형: \\n\", mercari_df[\"cat_dae\"].value_counts())\n",
        "print(\"중분류 유형: \\n\", mercari_df[\"cat_jung\"].nunique())\n",
        "print(\"소분류 유형: \\n\", mercari_df[\"cat_so\"].nunique())"
      ],
      "metadata": {
        "id": "W9JS7A6_iiLw",
        "colab": {
          "base_uri": "https://localhost:8080/"
        },
        "outputId": "02f3eca4-ddf6-4ca8-dccf-4d5fc5031348"
      },
      "execution_count": 26,
      "outputs": [
        {
          "output_type": "stream",
          "name": "stdout",
          "text": [
            "대분류 유형: \n",
            " cat_dae\n",
            "Women                     62411\n",
            "Beauty                    19554\n",
            "Kids                      16142\n",
            "Electronics               11448\n",
            "Men                        8780\n",
            "Home                       6327\n",
            "Vintage & Collectibles     4293\n",
            "Other                      4264\n",
            "Handmade                   2870\n",
            "Sports & Outdoors          2347\n",
            "Other_Null                  568\n",
            "Name: count, dtype: int64\n",
            "중분류 유형: \n",
            " 112\n",
            "소분류 유형: \n",
            " 727\n"
          ]
        }
      ]
    },
    {
      "cell_type": "markdown",
      "source": [
        "- Women, Beauty, Kids 등의 분류가 많다\n"
      ],
      "metadata": {
        "id": "WPgGaShpO9Tw"
      }
    },
    {
      "cell_type": "code",
      "source": [
        "# brand_name, category_name, item_description칼럼의 Null값은 일괄적으로 'Other_Null'로 변경\n",
        "mercari_df[\"brand_name\"] = mercari_df[\"brand_name\"].fillna(value=\"Other_Null\")\n",
        "mercari_df[\"category_name\"] = mercari_df[\"category_name\"].fillna(value=\"Other_Null\")\n",
        "mercari_df[\"item_description\"] = mercari_df[\"item_description\"].fillna(value=\"Other_Null\")"
      ],
      "metadata": {
        "id": "qwE1FbOSiiOc"
      },
      "execution_count": 29,
      "outputs": []
    },
    {
      "cell_type": "code",
      "source": [
        "mercari_df.isnull().sum()"
      ],
      "metadata": {
        "id": "oATjn6yqiiQs"
      },
      "execution_count": null,
      "outputs": []
    },
    {
      "cell_type": "markdown",
      "source": [
        "## 피처 인코딩과 피처 벡터화\n",
        "- Price를 예측하는 것 => 회귀 기반\n",
        "- 인코딩할 피처는 모두 원핫인코딩\n",
        "- 피처벡터화 : 짧은 텍스트는 Count기반 벡터화, 긴 텍스트는 TD-IDF 기반 벡터화"
      ],
      "metadata": {
        "id": "-auji9xNPlue"
      }
    },
    {
      "cell_type": "code",
      "source": [
        "print('brand name의 유형 건수:', mercari_df['brand_name'].nunique())\n",
        "print('brand name sample 5건: \\n', mercari_df['brand_name'].value_counts()[:5])"
      ],
      "metadata": {
        "id": "n898zp1KiiS7"
      },
      "execution_count": null,
      "outputs": []
    },
    {
      "cell_type": "code",
      "source": [
        "print('name의 종류 개수:', mercari_df['name'].nunique())\n",
        "print('name sample 10건: \\n', mercari_df['name'][:10])"
      ],
      "metadata": {
        "id": "mEPK0sj8P_AY"
      },
      "execution_count": null,
      "outputs": []
    },
    {
      "cell_type": "markdown",
      "source": [
        "- Name 속성은 유형이 매우 많고, 적은 단어 위주의 텍스트 형태이므로 Count기반의 피처 벡터화 변환 적용"
      ],
      "metadata": {
        "id": "Vp6N7TnQQHHg"
      }
    },
    {
      "cell_type": "code",
      "source": [
        "pd.set_option('max_colwidth', 200)\n",
        "\n",
        "# item_description의 평균 문자열 크기\n",
        "print('item_description 평균 문자열 크기:', mercari_df['item_description'].str.len().mean())\n",
        "mercari_df['item_description'][:2]"
      ],
      "metadata": {
        "colab": {
          "base_uri": "https://localhost:8080/"
        },
        "id": "vEMA9sUSQX-d",
        "outputId": "2a62536d-3f00-45b8-868c-02799fd41598"
      },
      "execution_count": 32,
      "outputs": [
        {
          "output_type": "stream",
          "name": "stdout",
          "text": [
            "item_description 평균 문자열 크기: 145.33705504877557\n"
          ]
        },
        {
          "output_type": "execute_result",
          "data": {
            "text/plain": [
              "0                                                                                                                                                                              No description yet\n",
              "1    This keyboard is in great condition and works like it came out of the box. All of the ports are tested and work perfectly. The lights are customizable via the Razer Synapse app on your PC.\n",
              "Name: item_description, dtype: object"
            ]
          },
          "metadata": {},
          "execution_count": 32
        }
      ]
    },
    {
      "cell_type": "markdown",
      "source": [
        "- 평균 문자열이 비교적 크므로 item_description 칼럼은 TF-IDF로 변환 적용"
      ],
      "metadata": {
        "id": "u5GZdkaRQh2m"
      }
    },
    {
      "cell_type": "code",
      "source": [
        "# name 속성에 대한 피처 벡터화 변환\n",
        "cnt_vec = CountVectorizer()\n",
        "X_name = cnt_vec.fit_transform(mercari_df.name)\n",
        "\n",
        "# item_description에 대한 피처 벡터화 변환\n",
        "tfidf_descp = TfidfVectorizer(max_features=50000, ngram_range=(1,3), stop_words='english')\n",
        "X_descp = tfidf_descp.fit_transform(mercari_df['item_description'])\n",
        "\n",
        "print('name vectorization shape:', X_name.shape)\n",
        "print('item_description vectorization shape:', X_descp.shape)"
      ],
      "metadata": {
        "id": "bmjovjrvQYbT"
      },
      "execution_count": null,
      "outputs": []
    },
    {
      "cell_type": "markdown",
      "source": [
        "- CountVectorizer, TfidVectorizer가 fit_transform을 통해 반환하는 데이터는 희소 행렬 형태\n",
        "- 인코딩 대상 칼럼도 희소 형렬 형태로 인코딩을 적용한 뒤, 함께 결합\n",
        "- LabelBinarizer : 희소 행렬 형태의 원핫 인코딩 변환 지원 sparse_out=True로 지정\n",
        "- 개별 칼럼으로 만들어진 희소행렬은 사이파이 패키지 sparse 모듈의 hstack()함수(희소행렬을 손쉽게 칼럼 레벨로 결합할 수 있도록 해줌)를 이용해 결합\n"
      ],
      "metadata": {
        "id": "jrwUHAKrQ2kf"
      }
    },
    {
      "cell_type": "code",
      "source": [
        "from sklearn.preprocessing import LabelBinarizer\n",
        "\n",
        "# brand_name, item_condition_id, shipping 각 피처들을 희소 행렬 원-핫 인코딩 변환\n",
        "lb_brand_name = LabelBinarizer(sparse_output=True)\n",
        "X_brand = lb_brand_name.fit_transform(mercari_df['brand_name'])\n",
        "lb_item_cond_id = LabelBinarizer(sparse_output=True)\n",
        "X_item_cond_id = lb_item_cond_id.fit_transform(mercari_df['item_condition_id'])\n",
        "lb_shipping = LabelBinarizer(sparse_output=True)\n",
        "X_shipping = lb_shipping.fit_transform(mercari_df['shipping'])\n",
        "\n",
        "# cat_dae, cat_jung, cat_so 각 피처들을 희소 행렬 원-핫 인코딩 변환\n",
        "lb_cat_dae = LabelBinarizer(sparse_output=True)\n",
        "X_cat_dae = lb_cat_dae.fit_transform(mercari_df['cat_dae'])\n",
        "lb_cat_jung = LabelBinarizer(sparse_output=True)\n",
        "X_cat_jung = lb_cat_jung.fit_transform(mercari_df['cat_jung'])\n",
        "lb_cat_so = LabelBinarizer(sparse_output=True)\n",
        "X_cat_so = lb_cat_so.fit_transform(mercari_df['cat_so'])"
      ],
      "metadata": {
        "id": "pzeyKsKlRkeF"
      },
      "execution_count": null,
      "outputs": []
    },
    {
      "cell_type": "code",
      "source": [
        "print(type(X_brand), type(X_item_cond_id), type(X_shipping))\n",
        "print('X_brand shape:{0}, X_item_cond_id shape{1}'.format(X_brand.shape, X_item_cond_id.shape))\n",
        "print('X_shipping shape:{0}, X_cat_dae shape{1}'.format(X_shipping.shape, X_cat_dae.shape))\n",
        "print('X_cat_jung shape:{0}, X_cat_so shape{1}'.format(X_cat_jung.shape, X_cat_so.shape))"
      ],
      "metadata": {
        "id": "6eQflASKQYXU"
      },
      "execution_count": null,
      "outputs": []
    },
    {
      "cell_type": "markdown",
      "source": [
        "- 인코딩 변환된 데이터 세트가 CSR 형태로 변환된 csv_matrix\n"
      ],
      "metadata": {
        "id": "cJhmbUvbRhCM"
      }
    },
    {
      "cell_type": "code",
      "source": [
        "# 피처 벡터화 변환 데이터세트와 희소 인코딩 변환 데이터세트를 hstack()를 이용해 결합\n",
        "\n",
        "from scipy.sparse import hstack\n",
        "import gc\n",
        "\n",
        "sparse_matrix_list = (X_name, X_descp, X_brand, X_item_cond_id,\n",
        "                      X_shipping, X_cat_dae, X_cat_jung, X_cat_so)\n",
        "\n",
        "# hstack 함수를 이용해 인코딩과 벡터화를 수행한 데이터 세트를 모두 결합\n",
        "X_features_sparse = hstack(sparse_matrix_list).tocsr()\n",
        "print(type(X_features_sparse), X_features_sparse.shape)\n",
        "\n",
        "# 데이터 세트가 메모리를 많이 차지하므로 사용목적이 끝났으면 바로 메모리에서 삭제\n",
        "del X_features_sparse\n",
        "gc.collect()\n",
        ""
      ],
      "metadata": {
        "id": "D6571osoQYVH"
      },
      "execution_count": null,
      "outputs": []
    },
    {
      "cell_type": "markdown",
      "source": [
        "- hstack으로 결합한 데이터 세트는 csr_matrix 타입\n",
        "- 데이터 세트에 회귀 적용해보기"
      ],
      "metadata": {
        "id": "OZMyeytYR3bF"
      }
    },
    {
      "cell_type": "markdown",
      "source": [
        "## 릿지 회귀 모델 구축 및 평가\n",
        "- 평가로직 : RMSLE(Root Mean Square Logarithmic Error)"
      ],
      "metadata": {
        "id": "TkAelOdKR8H2"
      }
    },
    {
      "cell_type": "code",
      "source": [
        "def rmsle(y, y_pred):\n",
        "  # underflow, overflow를 막기 위해 log가 아닌 log1p로 rmsle 계산\n",
        "  return np.sqrt(np.mean(np.power(np.log1p(y) - np.log1p(y_pred), 2)))\n",
        "\n",
        "def evaluate_org_price(y_test, preds):\n",
        "  # 원본 데이터는 log1p로 변환되었으므로 expm1로 원상복귀 필요\n",
        "  preds_expm = np.expm1(preds)\n",
        "  y_test_expm = np.expm1(y_test)\n",
        "\n",
        "  # rmsle로 RMSLE 값 추출\n",
        "  rmsle_result = rmsle(y_test_expm, preds_expm)\n",
        "  return rmsle_result"
      ],
      "metadata": {
        "id": "38NGTyePQYSk"
      },
      "execution_count": 35,
      "outputs": []
    },
    {
      "cell_type": "markdown",
      "source": [
        "- 학습용 데이터 생성하고, 모델을 학습 예측하는 로직"
      ],
      "metadata": {
        "id": "Tf0N4lttSSpc"
      }
    },
    {
      "cell_type": "code",
      "source": [
        "def model_train_predict(model, matrix_list):\n",
        "  # scipy.sparse 모듈의 hstack을 이용해 희소 행렬 결합\n",
        "  X = hstack(matrix_list).tocsr()\n",
        "\n",
        "  X_train, X_test, y_train, y_test = train_test_split(X, mercari_df['price'], test_size=0.2, random_state=156)\n",
        "\n",
        "  # 모델 학습 및 예측\n",
        "  model.fit(X_train, y_train)\n",
        "  preds = model.predict(X_test)\n",
        "\n",
        "  del X, X_train, X_test, y_train\n",
        "  gc.collect()\n",
        "\n",
        "  return preds, y_test"
      ],
      "metadata": {
        "id": "CjlL-48BSI2e"
      },
      "execution_count": 36,
      "outputs": []
    },
    {
      "cell_type": "markdown",
      "source": [
        "- Ridge를 이용해 Mercari Price 회귀 예측 수행\n",
        "- Item_description 속성의 피처 벡터화 데이터의 포함여부에 따라 예측 성능이 어떻게 달라지는지 비교하기"
      ],
      "metadata": {
        "id": "XN0nzJiLSbH0"
      }
    },
    {
      "cell_type": "code",
      "source": [
        "linear_model = Ridge(solver = 'lsqr', fit_intercept=False)\n",
        "\n",
        "sparse_matrix_list = (X_name, X_brand, X_item_cond_id, \\\n",
        "                      X_shipping, X_cat_dae, X_cat_jung, X_cat_so)\n",
        "linear_preds, y_test = model_train_predict(model=linear_model, matrix_list=sparse_matrix_list)\n",
        "print('Item Description을 제외했을 때 rmsle 값:', evaluate_org_price(y_test, linear_preds))\n",
        "\n",
        "sparse_matrix_list = (X_descp, X_name, X_brand, X_item_cond_id,\n",
        "                      X_shipping, X_cat_dae, X_cat_jung, X_cat_so)\n",
        "linear_preds, y_test = model_train_predict(model=linear_model, matrix_list=sparse_matrix_list)\n",
        "print('Item Description을 포함한 rmsle 값:', evaluate_org_price(y_test, linear_preds))"
      ],
      "metadata": {
        "id": "mnNVIl-8SIzG"
      },
      "execution_count": null,
      "outputs": []
    },
    {
      "cell_type": "markdown",
      "source": [
        "## LightGBM 회귀 모델 구축과 앙상블을 이용한 최종 예측 평가\n",
        "\n",
        "- LightGBM을 이용해 회귀를 수행, 위의 릿지모델 예측값과 LightGBM모델 예측값을 간단한 앙상블 방식으로 섞어서 최종 회귀 예측값 평가"
      ],
      "metadata": {
        "id": "KOKYGRy4SuQF"
      }
    },
    {
      "cell_type": "code",
      "source": [
        "from lightgbm import LGBMRegressor\n",
        "\n",
        "sparse_matrix_list = (X_descp, X_name, X_brand, X_item_cond_id,\n",
        "                      X_shipping, X_cat_dae, X_cat_jung, X_cat_so)\n",
        "\n",
        "lgbm_model = LGBMRegressor(n_estimators=200, learning_rate=0.5, num_leaves=125, random_state=156)\n",
        "lgbm_preds, y_test = model_train_predict(model=lgbm_model, matrix_list=sparse_matrix_list)\n",
        "print('LightGBM rmsle 값:', evaluate_org_price(y_test, lgbm_preds))"
      ],
      "metadata": {
        "id": "pBSYBYMlSIw2"
      },
      "execution_count": null,
      "outputs": []
    },
    {
      "cell_type": "markdown",
      "source": [
        "- 위의 LightGBM 예측 결괏값과 위의 Ridge 예측 결괏값 앙상블해 최종 예측 결괏값 도출"
      ],
      "metadata": {
        "id": "HDQ57pNjS-vU"
      }
    },
    {
      "cell_type": "code",
      "source": [
        "preds = lgbm_preds * 0.45 + linear_preds * 0.55\n",
        "print('LightGBM과 Ridge를 ensemble한 최종 rmsle 값:', evaluate_org_price(y_test, preds))"
      ],
      "metadata": {
        "id": "JxkXe7wuSIua"
      },
      "execution_count": null,
      "outputs": []
    },
    {
      "cell_type": "markdown",
      "source": [
        "##정리\n",
        "\n",
        "<머신러닝 기반 텍스트 분석 프로세스>\n",
        "1. 텍스트 사전 정제 작업등의 텍스트 정규화 작업\n",
        "\n",
        "2. 단어들을 피처 벡터화로 변환\n",
        "\n",
        "3. 생성된 피처 벡터 데이터 세트에 머신러닝 모델 학습, 예측, 평가\n",
        "\n",
        "**텍스트 정규화**\n",
        "- 텍스트 클렌징, 대소문자 변경, 단어 토큰화, 의미없는 단어 필터링, 어근 추출\n",
        "- BOW 대표 방식인 Count 기반, TF-IDF 기반 피처 벡터화\n",
        "- 만들어진 피처 벡터 데이터 세트는 희소 행렬\n",
        "- 머신러닝 모델을 희소 행렬 기반에서 최적화되어야함\n",
        "\n",
        "-----------------------------------------\n",
        "- 문서들을 피처벡터화한 후 로지스틱 회귀를 적용해 문서를 지도학습 방식으로 예측 분류\n",
        "- 감성 분석\n",
        "  - 지도학습 기반 긍/부정 이진분류\n",
        "  - 감성사전 Lexicon을 이용한 방식\n",
        "- 토픽 모델링\n",
        "  - LDA를 이용\n",
        "- 텍스트 군집화\n",
        "  - K-평균 군집화 기법\n",
        "  - 텍스트 유사도 측정은 코사인 유사도 이용"
      ],
      "metadata": {
        "id": "zDLeQgBwTJBr"
      }
    }
  ]
}